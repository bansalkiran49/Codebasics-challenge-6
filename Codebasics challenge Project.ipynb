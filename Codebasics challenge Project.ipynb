{
 "cells": [
  {
   "cell_type": "code",
   "execution_count": 1,
   "id": "d5107373",
   "metadata": {},
   "outputs": [],
   "source": [
    "import numpy as np\n",
    "import pandas as pd\n",
    "import matplotlib.pyplot as plt\n",
    "import seaborn as sns\n",
    "%matplotlib inline\n",
    "import warnings\n",
    "warnings.filterwarnings(\"ignore\")"
   ]
  },
  {
   "cell_type": "markdown",
   "id": "620e84fd",
   "metadata": {},
   "source": [
    "#### Data Acquisition"
   ]
  },
  {
   "cell_type": "code",
   "execution_count": 2,
   "id": "7eebada4",
   "metadata": {},
   "outputs": [
    {
     "name": "stdout",
     "output_type": "stream",
     "text": [
      "shape of cities data: (10, 3)\n"
     ]
    },
    {
     "data": {
      "text/html": [
       "<div>\n",
       "<style scoped>\n",
       "    .dataframe tbody tr th:only-of-type {\n",
       "        vertical-align: middle;\n",
       "    }\n",
       "\n",
       "    .dataframe tbody tr th {\n",
       "        vertical-align: top;\n",
       "    }\n",
       "\n",
       "    .dataframe thead th {\n",
       "        text-align: right;\n",
       "    }\n",
       "</style>\n",
       "<table border=\"1\" class=\"dataframe\">\n",
       "  <thead>\n",
       "    <tr style=\"text-align: right;\">\n",
       "      <th></th>\n",
       "      <th>City_ID</th>\n",
       "      <th>City</th>\n",
       "      <th>Tier</th>\n",
       "    </tr>\n",
       "  </thead>\n",
       "  <tbody>\n",
       "    <tr>\n",
       "      <th>0</th>\n",
       "      <td>CT111</td>\n",
       "      <td>Delhi</td>\n",
       "      <td>Tier 1</td>\n",
       "    </tr>\n",
       "    <tr>\n",
       "      <th>1</th>\n",
       "      <td>CT112</td>\n",
       "      <td>Mumbai</td>\n",
       "      <td>Tier 1</td>\n",
       "    </tr>\n",
       "    <tr>\n",
       "      <th>2</th>\n",
       "      <td>CT113</td>\n",
       "      <td>Bangalore</td>\n",
       "      <td>Tier 1</td>\n",
       "    </tr>\n",
       "    <tr>\n",
       "      <th>3</th>\n",
       "      <td>CT114</td>\n",
       "      <td>Chennai</td>\n",
       "      <td>Tier 1</td>\n",
       "    </tr>\n",
       "    <tr>\n",
       "      <th>4</th>\n",
       "      <td>CT115</td>\n",
       "      <td>Kolkata</td>\n",
       "      <td>Tier 2</td>\n",
       "    </tr>\n",
       "    <tr>\n",
       "      <th>5</th>\n",
       "      <td>CT116</td>\n",
       "      <td>Hyderabad</td>\n",
       "      <td>Tier 1</td>\n",
       "    </tr>\n",
       "    <tr>\n",
       "      <th>6</th>\n",
       "      <td>CT117</td>\n",
       "      <td>Ahmedabad</td>\n",
       "      <td>Tier 2</td>\n",
       "    </tr>\n",
       "    <tr>\n",
       "      <th>7</th>\n",
       "      <td>CT118</td>\n",
       "      <td>Pune</td>\n",
       "      <td>Tier 2</td>\n",
       "    </tr>\n",
       "    <tr>\n",
       "      <th>8</th>\n",
       "      <td>CT119</td>\n",
       "      <td>Jaipur</td>\n",
       "      <td>Tier 2</td>\n",
       "    </tr>\n",
       "    <tr>\n",
       "      <th>9</th>\n",
       "      <td>CT120</td>\n",
       "      <td>Lucknow</td>\n",
       "      <td>Tier 2</td>\n",
       "    </tr>\n",
       "  </tbody>\n",
       "</table>\n",
       "</div>"
      ],
      "text/plain": [
       "  City_ID       City    Tier\n",
       "0   CT111      Delhi  Tier 1\n",
       "1   CT112     Mumbai  Tier 1\n",
       "2   CT113  Bangalore  Tier 1\n",
       "3   CT114    Chennai  Tier 1\n",
       "4   CT115    Kolkata  Tier 2\n",
       "5   CT116  Hyderabad  Tier 1\n",
       "6   CT117  Ahmedabad  Tier 2\n",
       "7   CT118       Pune  Tier 2\n",
       "8   CT119     Jaipur  Tier 2\n",
       "9   CT120    Lucknow  Tier 2"
      ]
     },
     "execution_count": 2,
     "metadata": {},
     "output_type": "execute_result"
    }
   ],
   "source": [
    "cities = pd.read_csv('dim_cities.csv')\n",
    "print('shape of cities data:', cities.shape)\n",
    "cities"
   ]
  },
  {
   "cell_type": "code",
   "execution_count": 3,
   "id": "5fdbadfe",
   "metadata": {},
   "outputs": [
    {
     "name": "stdout",
     "output_type": "stream",
     "text": [
      "shape of respondent data: (10000, 5)\n"
     ]
    },
    {
     "data": {
      "text/html": [
       "<div>\n",
       "<style scoped>\n",
       "    .dataframe tbody tr th:only-of-type {\n",
       "        vertical-align: middle;\n",
       "    }\n",
       "\n",
       "    .dataframe tbody tr th {\n",
       "        vertical-align: top;\n",
       "    }\n",
       "\n",
       "    .dataframe thead th {\n",
       "        text-align: right;\n",
       "    }\n",
       "</style>\n",
       "<table border=\"1\" class=\"dataframe\">\n",
       "  <thead>\n",
       "    <tr style=\"text-align: right;\">\n",
       "      <th></th>\n",
       "      <th>Respondent_ID</th>\n",
       "      <th>Name</th>\n",
       "      <th>Age</th>\n",
       "      <th>Gender</th>\n",
       "      <th>City_ID</th>\n",
       "    </tr>\n",
       "  </thead>\n",
       "  <tbody>\n",
       "    <tr>\n",
       "      <th>0</th>\n",
       "      <td>120031</td>\n",
       "      <td>Aniruddh Issac</td>\n",
       "      <td>15-18</td>\n",
       "      <td>Female</td>\n",
       "      <td>CT117</td>\n",
       "    </tr>\n",
       "    <tr>\n",
       "      <th>1</th>\n",
       "      <td>120032</td>\n",
       "      <td>Trisha Rout</td>\n",
       "      <td>19-30</td>\n",
       "      <td>Male</td>\n",
       "      <td>CT118</td>\n",
       "    </tr>\n",
       "    <tr>\n",
       "      <th>2</th>\n",
       "      <td>120033</td>\n",
       "      <td>Yuvraj  Virk</td>\n",
       "      <td>15-18</td>\n",
       "      <td>Male</td>\n",
       "      <td>CT116</td>\n",
       "    </tr>\n",
       "    <tr>\n",
       "      <th>3</th>\n",
       "      <td>120034</td>\n",
       "      <td>Pranay Chand</td>\n",
       "      <td>31-45</td>\n",
       "      <td>Female</td>\n",
       "      <td>CT113</td>\n",
       "    </tr>\n",
       "    <tr>\n",
       "      <th>4</th>\n",
       "      <td>120035</td>\n",
       "      <td>Mohanlal Joshi</td>\n",
       "      <td>19-30</td>\n",
       "      <td>Female</td>\n",
       "      <td>CT120</td>\n",
       "    </tr>\n",
       "  </tbody>\n",
       "</table>\n",
       "</div>"
      ],
      "text/plain": [
       "   Respondent_ID            Name    Age  Gender City_ID\n",
       "0         120031  Aniruddh Issac  15-18  Female   CT117\n",
       "1         120032     Trisha Rout  19-30    Male   CT118\n",
       "2         120033    Yuvraj  Virk  15-18    Male   CT116\n",
       "3         120034    Pranay Chand  31-45  Female   CT113\n",
       "4         120035  Mohanlal Joshi  19-30  Female   CT120"
      ]
     },
     "execution_count": 3,
     "metadata": {},
     "output_type": "execute_result"
    }
   ],
   "source": [
    "respondents = pd.read_csv('dim_repondents.csv')\n",
    "print('shape of respondent data:', respondents.shape)\n",
    "respondents.head()"
   ]
  },
  {
   "cell_type": "code",
   "execution_count": 4,
   "id": "07ed7730",
   "metadata": {},
   "outputs": [
    {
     "name": "stdout",
     "output_type": "stream",
     "text": [
      "shape of survey data: (10000, 23)\n"
     ]
    },
    {
     "data": {
      "text/html": [
       "<div>\n",
       "<style scoped>\n",
       "    .dataframe tbody tr th:only-of-type {\n",
       "        vertical-align: middle;\n",
       "    }\n",
       "\n",
       "    .dataframe tbody tr th {\n",
       "        vertical-align: top;\n",
       "    }\n",
       "\n",
       "    .dataframe thead th {\n",
       "        text-align: right;\n",
       "    }\n",
       "</style>\n",
       "<table border=\"1\" class=\"dataframe\">\n",
       "  <thead>\n",
       "    <tr style=\"text-align: right;\">\n",
       "      <th></th>\n",
       "      <th>Response_ID</th>\n",
       "      <th>Respondent_ID</th>\n",
       "      <th>Consume_frequency</th>\n",
       "      <th>Consume_time</th>\n",
       "      <th>Consume_reason</th>\n",
       "      <th>Heard_before</th>\n",
       "      <th>Brand_perception</th>\n",
       "      <th>General_perception</th>\n",
       "      <th>Tried_before</th>\n",
       "      <th>Taste_experience</th>\n",
       "      <th>...</th>\n",
       "      <th>Improvements_desired</th>\n",
       "      <th>Ingredients_expected</th>\n",
       "      <th>Health_concerns</th>\n",
       "      <th>Interest_in_natural_or_organic</th>\n",
       "      <th>Marketing_channels</th>\n",
       "      <th>Packaging_preference</th>\n",
       "      <th>Limited_edition_packaging</th>\n",
       "      <th>Price_range</th>\n",
       "      <th>Purchase_location</th>\n",
       "      <th>Typical_consumption_situations</th>\n",
       "    </tr>\n",
       "  </thead>\n",
       "  <tbody>\n",
       "    <tr>\n",
       "      <th>0</th>\n",
       "      <td>103001</td>\n",
       "      <td>120031</td>\n",
       "      <td>2-3 times a week</td>\n",
       "      <td>To stay awake during work/study</td>\n",
       "      <td>Increased energy and focus</td>\n",
       "      <td>Yes</td>\n",
       "      <td>Neutral</td>\n",
       "      <td>Not sure</td>\n",
       "      <td>No</td>\n",
       "      <td>5</td>\n",
       "      <td>...</td>\n",
       "      <td>Reduced sugar content</td>\n",
       "      <td>Guarana</td>\n",
       "      <td>No</td>\n",
       "      <td>Yes</td>\n",
       "      <td>TV commercials</td>\n",
       "      <td>Compact and portable cans</td>\n",
       "      <td>Yes</td>\n",
       "      <td>50-99</td>\n",
       "      <td>Supermarkets</td>\n",
       "      <td>Studying/working late</td>\n",
       "    </tr>\n",
       "    <tr>\n",
       "      <th>1</th>\n",
       "      <td>103002</td>\n",
       "      <td>120032</td>\n",
       "      <td>2-3 times a month</td>\n",
       "      <td>Throughout the day</td>\n",
       "      <td>To boost performance</td>\n",
       "      <td>No</td>\n",
       "      <td>Neutral</td>\n",
       "      <td>Not sure</td>\n",
       "      <td>No</td>\n",
       "      <td>5</td>\n",
       "      <td>...</td>\n",
       "      <td>More natural ingredients</td>\n",
       "      <td>Caffeine</td>\n",
       "      <td>Yes</td>\n",
       "      <td>Not Sure</td>\n",
       "      <td>Print media</td>\n",
       "      <td>Compact and portable cans</td>\n",
       "      <td>No</td>\n",
       "      <td>50-99</td>\n",
       "      <td>Supermarkets</td>\n",
       "      <td>Sports/exercise</td>\n",
       "    </tr>\n",
       "    <tr>\n",
       "      <th>2</th>\n",
       "      <td>103003</td>\n",
       "      <td>120033</td>\n",
       "      <td>Rarely</td>\n",
       "      <td>Before exercise</td>\n",
       "      <td>Increased energy and focus</td>\n",
       "      <td>No</td>\n",
       "      <td>Neutral</td>\n",
       "      <td>Not sure</td>\n",
       "      <td>No</td>\n",
       "      <td>2</td>\n",
       "      <td>...</td>\n",
       "      <td>More natural ingredients</td>\n",
       "      <td>Caffeine</td>\n",
       "      <td>No</td>\n",
       "      <td>Yes</td>\n",
       "      <td>Online ads</td>\n",
       "      <td>Innovative bottle design</td>\n",
       "      <td>Not Sure</td>\n",
       "      <td>100-150</td>\n",
       "      <td>Supermarkets</td>\n",
       "      <td>Studying/working late</td>\n",
       "    </tr>\n",
       "    <tr>\n",
       "      <th>3</th>\n",
       "      <td>103004</td>\n",
       "      <td>120034</td>\n",
       "      <td>2-3 times a week</td>\n",
       "      <td>To stay awake during work/study</td>\n",
       "      <td>To boost performance</td>\n",
       "      <td>No</td>\n",
       "      <td>Positive</td>\n",
       "      <td>Dangerous</td>\n",
       "      <td>Yes</td>\n",
       "      <td>5</td>\n",
       "      <td>...</td>\n",
       "      <td>Other</td>\n",
       "      <td>Caffeine</td>\n",
       "      <td>No</td>\n",
       "      <td>Yes</td>\n",
       "      <td>Online ads</td>\n",
       "      <td>Compact and portable cans</td>\n",
       "      <td>No</td>\n",
       "      <td>Above 150</td>\n",
       "      <td>Supermarkets</td>\n",
       "      <td>Sports/exercise</td>\n",
       "    </tr>\n",
       "    <tr>\n",
       "      <th>4</th>\n",
       "      <td>103005</td>\n",
       "      <td>120035</td>\n",
       "      <td>Daily</td>\n",
       "      <td>To stay awake during work/study</td>\n",
       "      <td>Increased energy and focus</td>\n",
       "      <td>Yes</td>\n",
       "      <td>Neutral</td>\n",
       "      <td>Effective</td>\n",
       "      <td>Yes</td>\n",
       "      <td>5</td>\n",
       "      <td>...</td>\n",
       "      <td>More natural ingredients</td>\n",
       "      <td>Caffeine</td>\n",
       "      <td>Yes</td>\n",
       "      <td>Yes</td>\n",
       "      <td>Online ads</td>\n",
       "      <td>Compact and portable cans</td>\n",
       "      <td>Yes</td>\n",
       "      <td>100-150</td>\n",
       "      <td>Online retailers</td>\n",
       "      <td>Studying/working late</td>\n",
       "    </tr>\n",
       "  </tbody>\n",
       "</table>\n",
       "<p>5 rows × 23 columns</p>\n",
       "</div>"
      ],
      "text/plain": [
       "   Response_ID  Respondent_ID  Consume_frequency  \\\n",
       "0       103001         120031   2-3 times a week   \n",
       "1       103002         120032  2-3 times a month   \n",
       "2       103003         120033             Rarely   \n",
       "3       103004         120034   2-3 times a week   \n",
       "4       103005         120035              Daily   \n",
       "\n",
       "                      Consume_time              Consume_reason Heard_before  \\\n",
       "0  To stay awake during work/study  Increased energy and focus          Yes   \n",
       "1               Throughout the day        To boost performance           No   \n",
       "2                  Before exercise  Increased energy and focus           No   \n",
       "3  To stay awake during work/study        To boost performance           No   \n",
       "4  To stay awake during work/study  Increased energy and focus          Yes   \n",
       "\n",
       "  Brand_perception General_perception Tried_before  Taste_experience  ...  \\\n",
       "0          Neutral           Not sure           No                 5  ...   \n",
       "1          Neutral           Not sure           No                 5  ...   \n",
       "2          Neutral           Not sure           No                 2  ...   \n",
       "3         Positive          Dangerous          Yes                 5  ...   \n",
       "4          Neutral          Effective          Yes                 5  ...   \n",
       "\n",
       "       Improvements_desired Ingredients_expected Health_concerns  \\\n",
       "0     Reduced sugar content              Guarana              No   \n",
       "1  More natural ingredients             Caffeine             Yes   \n",
       "2  More natural ingredients             Caffeine              No   \n",
       "3                     Other             Caffeine              No   \n",
       "4  More natural ingredients             Caffeine             Yes   \n",
       "\n",
       "  Interest_in_natural_or_organic Marketing_channels  \\\n",
       "0                            Yes     TV commercials   \n",
       "1                       Not Sure        Print media   \n",
       "2                            Yes         Online ads   \n",
       "3                            Yes         Online ads   \n",
       "4                            Yes         Online ads   \n",
       "\n",
       "        Packaging_preference Limited_edition_packaging Price_range  \\\n",
       "0  Compact and portable cans                       Yes       50-99   \n",
       "1  Compact and portable cans                        No       50-99   \n",
       "2   Innovative bottle design                  Not Sure     100-150   \n",
       "3  Compact and portable cans                        No   Above 150   \n",
       "4  Compact and portable cans                       Yes     100-150   \n",
       "\n",
       "  Purchase_location Typical_consumption_situations  \n",
       "0      Supermarkets          Studying/working late  \n",
       "1      Supermarkets                Sports/exercise  \n",
       "2      Supermarkets          Studying/working late  \n",
       "3      Supermarkets                Sports/exercise  \n",
       "4  Online retailers          Studying/working late  \n",
       "\n",
       "[5 rows x 23 columns]"
      ]
     },
     "execution_count": 4,
     "metadata": {},
     "output_type": "execute_result"
    }
   ],
   "source": [
    "survey = pd.read_csv('fact_survey_responses.csv')\n",
    "print('shape of survey data:', survey.shape)\n",
    "survey.head()"
   ]
  },
  {
   "cell_type": "markdown",
   "id": "865471cc",
   "metadata": {},
   "source": [
    "#### Let's explore data for missing values, duplicates, inconsistency and redundancy before analysis"
   ]
  },
  {
   "cell_type": "code",
   "execution_count": 5,
   "id": "8824ddcf",
   "metadata": {},
   "outputs": [
    {
     "data": {
      "text/plain": [
       "Respondent_ID    0\n",
       "Name             0\n",
       "Age              0\n",
       "Gender           0\n",
       "City_ID          0\n",
       "dtype: int64"
      ]
     },
     "execution_count": 5,
     "metadata": {},
     "output_type": "execute_result"
    }
   ],
   "source": [
    "respondents.isnull().sum()"
   ]
  },
  {
   "cell_type": "code",
   "execution_count": 6,
   "id": "d3dff8d7",
   "metadata": {},
   "outputs": [
    {
     "data": {
      "text/plain": [
       "Response_ID                       0\n",
       "Respondent_ID                     0\n",
       "Consume_frequency                 0\n",
       "Consume_time                      0\n",
       "Consume_reason                    0\n",
       "Heard_before                      0\n",
       "Brand_perception                  0\n",
       "General_perception                0\n",
       "Tried_before                      0\n",
       "Taste_experience                  0\n",
       "Reasons_preventing_trying         0\n",
       "Current_brands                    0\n",
       "Reasons_for_choosing_brands       0\n",
       "Improvements_desired              0\n",
       "Ingredients_expected              0\n",
       "Health_concerns                   0\n",
       "Interest_in_natural_or_organic    0\n",
       "Marketing_channels                0\n",
       "Packaging_preference              0\n",
       "Limited_edition_packaging         0\n",
       "Price_range                       0\n",
       "Purchase_location                 0\n",
       "Typical_consumption_situations    0\n",
       "dtype: int64"
      ]
     },
     "execution_count": 6,
     "metadata": {},
     "output_type": "execute_result"
    }
   ],
   "source": [
    "survey.isnull().sum()"
   ]
  },
  {
   "cell_type": "code",
   "execution_count": 7,
   "id": "85584b0d",
   "metadata": {},
   "outputs": [
    {
     "name": "stdout",
     "output_type": "stream",
     "text": [
      "0\n",
      "0\n"
     ]
    }
   ],
   "source": [
    "#checking for duplicates in whole dataframe and then based on city_ID(as it is unique for all cities)\n",
    "print(respondents.duplicated().sum())\n",
    "print(respondents.duplicated(['Respondent_ID']).sum())"
   ]
  },
  {
   "cell_type": "code",
   "execution_count": 8,
   "id": "09ffc018",
   "metadata": {},
   "outputs": [
    {
     "name": "stdout",
     "output_type": "stream",
     "text": [
      "0\n",
      "0\n"
     ]
    }
   ],
   "source": [
    "#checking for duplicates in whole dataframe and then based on Respondent_ID(as it is unique for all respondents)\n",
    "print(survey.duplicated().sum())\n",
    "print(survey.duplicated(['Respondent_ID']).sum())"
   ]
  },
  {
   "cell_type": "markdown",
   "id": "6c0dc2f1",
   "metadata": {},
   "source": [
    "##### data seems clean move to analysis with each question"
   ]
  },
  {
   "cell_type": "code",
   "execution_count": 9,
   "id": "ffd1025a",
   "metadata": {},
   "outputs": [],
   "source": [
    "#lets merge respondents and survey dataframe before procedding further\n",
    "survey = pd.merge(left=respondents, right=survey, on='Respondent_ID', how='outer')"
   ]
  },
  {
   "cell_type": "code",
   "execution_count": 10,
   "id": "de197a22",
   "metadata": {},
   "outputs": [
    {
     "data": {
      "text/html": [
       "<div>\n",
       "<style scoped>\n",
       "    .dataframe tbody tr th:only-of-type {\n",
       "        vertical-align: middle;\n",
       "    }\n",
       "\n",
       "    .dataframe tbody tr th {\n",
       "        vertical-align: top;\n",
       "    }\n",
       "\n",
       "    .dataframe thead th {\n",
       "        text-align: right;\n",
       "    }\n",
       "</style>\n",
       "<table border=\"1\" class=\"dataframe\">\n",
       "  <thead>\n",
       "    <tr style=\"text-align: right;\">\n",
       "      <th></th>\n",
       "      <th>Respondent_ID</th>\n",
       "      <th>Name</th>\n",
       "      <th>Age</th>\n",
       "      <th>Gender</th>\n",
       "      <th>City_ID</th>\n",
       "      <th>Response_ID</th>\n",
       "      <th>Consume_frequency</th>\n",
       "      <th>Consume_time</th>\n",
       "      <th>Consume_reason</th>\n",
       "      <th>Heard_before</th>\n",
       "      <th>...</th>\n",
       "      <th>Improvements_desired</th>\n",
       "      <th>Ingredients_expected</th>\n",
       "      <th>Health_concerns</th>\n",
       "      <th>Interest_in_natural_or_organic</th>\n",
       "      <th>Marketing_channels</th>\n",
       "      <th>Packaging_preference</th>\n",
       "      <th>Limited_edition_packaging</th>\n",
       "      <th>Price_range</th>\n",
       "      <th>Purchase_location</th>\n",
       "      <th>Typical_consumption_situations</th>\n",
       "    </tr>\n",
       "  </thead>\n",
       "  <tbody>\n",
       "    <tr>\n",
       "      <th>0</th>\n",
       "      <td>120031</td>\n",
       "      <td>Aniruddh Issac</td>\n",
       "      <td>15-18</td>\n",
       "      <td>Female</td>\n",
       "      <td>CT117</td>\n",
       "      <td>103001</td>\n",
       "      <td>2-3 times a week</td>\n",
       "      <td>To stay awake during work/study</td>\n",
       "      <td>Increased energy and focus</td>\n",
       "      <td>Yes</td>\n",
       "      <td>...</td>\n",
       "      <td>Reduced sugar content</td>\n",
       "      <td>Guarana</td>\n",
       "      <td>No</td>\n",
       "      <td>Yes</td>\n",
       "      <td>TV commercials</td>\n",
       "      <td>Compact and portable cans</td>\n",
       "      <td>Yes</td>\n",
       "      <td>50-99</td>\n",
       "      <td>Supermarkets</td>\n",
       "      <td>Studying/working late</td>\n",
       "    </tr>\n",
       "    <tr>\n",
       "      <th>1</th>\n",
       "      <td>120032</td>\n",
       "      <td>Trisha Rout</td>\n",
       "      <td>19-30</td>\n",
       "      <td>Male</td>\n",
       "      <td>CT118</td>\n",
       "      <td>103002</td>\n",
       "      <td>2-3 times a month</td>\n",
       "      <td>Throughout the day</td>\n",
       "      <td>To boost performance</td>\n",
       "      <td>No</td>\n",
       "      <td>...</td>\n",
       "      <td>More natural ingredients</td>\n",
       "      <td>Caffeine</td>\n",
       "      <td>Yes</td>\n",
       "      <td>Not Sure</td>\n",
       "      <td>Print media</td>\n",
       "      <td>Compact and portable cans</td>\n",
       "      <td>No</td>\n",
       "      <td>50-99</td>\n",
       "      <td>Supermarkets</td>\n",
       "      <td>Sports/exercise</td>\n",
       "    </tr>\n",
       "    <tr>\n",
       "      <th>2</th>\n",
       "      <td>120033</td>\n",
       "      <td>Yuvraj  Virk</td>\n",
       "      <td>15-18</td>\n",
       "      <td>Male</td>\n",
       "      <td>CT116</td>\n",
       "      <td>103003</td>\n",
       "      <td>Rarely</td>\n",
       "      <td>Before exercise</td>\n",
       "      <td>Increased energy and focus</td>\n",
       "      <td>No</td>\n",
       "      <td>...</td>\n",
       "      <td>More natural ingredients</td>\n",
       "      <td>Caffeine</td>\n",
       "      <td>No</td>\n",
       "      <td>Yes</td>\n",
       "      <td>Online ads</td>\n",
       "      <td>Innovative bottle design</td>\n",
       "      <td>Not Sure</td>\n",
       "      <td>100-150</td>\n",
       "      <td>Supermarkets</td>\n",
       "      <td>Studying/working late</td>\n",
       "    </tr>\n",
       "    <tr>\n",
       "      <th>3</th>\n",
       "      <td>120034</td>\n",
       "      <td>Pranay Chand</td>\n",
       "      <td>31-45</td>\n",
       "      <td>Female</td>\n",
       "      <td>CT113</td>\n",
       "      <td>103004</td>\n",
       "      <td>2-3 times a week</td>\n",
       "      <td>To stay awake during work/study</td>\n",
       "      <td>To boost performance</td>\n",
       "      <td>No</td>\n",
       "      <td>...</td>\n",
       "      <td>Other</td>\n",
       "      <td>Caffeine</td>\n",
       "      <td>No</td>\n",
       "      <td>Yes</td>\n",
       "      <td>Online ads</td>\n",
       "      <td>Compact and portable cans</td>\n",
       "      <td>No</td>\n",
       "      <td>Above 150</td>\n",
       "      <td>Supermarkets</td>\n",
       "      <td>Sports/exercise</td>\n",
       "    </tr>\n",
       "    <tr>\n",
       "      <th>4</th>\n",
       "      <td>120035</td>\n",
       "      <td>Mohanlal Joshi</td>\n",
       "      <td>19-30</td>\n",
       "      <td>Female</td>\n",
       "      <td>CT120</td>\n",
       "      <td>103005</td>\n",
       "      <td>Daily</td>\n",
       "      <td>To stay awake during work/study</td>\n",
       "      <td>Increased energy and focus</td>\n",
       "      <td>Yes</td>\n",
       "      <td>...</td>\n",
       "      <td>More natural ingredients</td>\n",
       "      <td>Caffeine</td>\n",
       "      <td>Yes</td>\n",
       "      <td>Yes</td>\n",
       "      <td>Online ads</td>\n",
       "      <td>Compact and portable cans</td>\n",
       "      <td>Yes</td>\n",
       "      <td>100-150</td>\n",
       "      <td>Online retailers</td>\n",
       "      <td>Studying/working late</td>\n",
       "    </tr>\n",
       "  </tbody>\n",
       "</table>\n",
       "<p>5 rows × 27 columns</p>\n",
       "</div>"
      ],
      "text/plain": [
       "   Respondent_ID            Name    Age  Gender City_ID  Response_ID  \\\n",
       "0         120031  Aniruddh Issac  15-18  Female   CT117       103001   \n",
       "1         120032     Trisha Rout  19-30    Male   CT118       103002   \n",
       "2         120033    Yuvraj  Virk  15-18    Male   CT116       103003   \n",
       "3         120034    Pranay Chand  31-45  Female   CT113       103004   \n",
       "4         120035  Mohanlal Joshi  19-30  Female   CT120       103005   \n",
       "\n",
       "   Consume_frequency                     Consume_time  \\\n",
       "0   2-3 times a week  To stay awake during work/study   \n",
       "1  2-3 times a month               Throughout the day   \n",
       "2             Rarely                  Before exercise   \n",
       "3   2-3 times a week  To stay awake during work/study   \n",
       "4              Daily  To stay awake during work/study   \n",
       "\n",
       "               Consume_reason Heard_before  ...      Improvements_desired  \\\n",
       "0  Increased energy and focus          Yes  ...     Reduced sugar content   \n",
       "1        To boost performance           No  ...  More natural ingredients   \n",
       "2  Increased energy and focus           No  ...  More natural ingredients   \n",
       "3        To boost performance           No  ...                     Other   \n",
       "4  Increased energy and focus          Yes  ...  More natural ingredients   \n",
       "\n",
       "  Ingredients_expected Health_concerns  Interest_in_natural_or_organic  \\\n",
       "0              Guarana              No                             Yes   \n",
       "1             Caffeine             Yes                        Not Sure   \n",
       "2             Caffeine              No                             Yes   \n",
       "3             Caffeine              No                             Yes   \n",
       "4             Caffeine             Yes                             Yes   \n",
       "\n",
       "  Marketing_channels       Packaging_preference Limited_edition_packaging  \\\n",
       "0     TV commercials  Compact and portable cans                       Yes   \n",
       "1        Print media  Compact and portable cans                        No   \n",
       "2         Online ads   Innovative bottle design                  Not Sure   \n",
       "3         Online ads  Compact and portable cans                        No   \n",
       "4         Online ads  Compact and portable cans                       Yes   \n",
       "\n",
       "  Price_range Purchase_location Typical_consumption_situations  \n",
       "0       50-99      Supermarkets          Studying/working late  \n",
       "1       50-99      Supermarkets                Sports/exercise  \n",
       "2     100-150      Supermarkets          Studying/working late  \n",
       "3   Above 150      Supermarkets                Sports/exercise  \n",
       "4     100-150  Online retailers          Studying/working late  \n",
       "\n",
       "[5 rows x 27 columns]"
      ]
     },
     "execution_count": 10,
     "metadata": {},
     "output_type": "execute_result"
    }
   ],
   "source": [
    "survey.head()"
   ]
  },
  {
   "cell_type": "code",
   "execution_count": 11,
   "id": "7c57dfbf",
   "metadata": {},
   "outputs": [],
   "source": [
    "#lets merge cities and survey dataframe\n",
    "survey = pd.merge(survey, cities, on='City_ID', how='outer')"
   ]
  },
  {
   "cell_type": "code",
   "execution_count": 12,
   "id": "23da04ab",
   "metadata": {},
   "outputs": [
    {
     "data": {
      "text/html": [
       "<div>\n",
       "<style scoped>\n",
       "    .dataframe tbody tr th:only-of-type {\n",
       "        vertical-align: middle;\n",
       "    }\n",
       "\n",
       "    .dataframe tbody tr th {\n",
       "        vertical-align: top;\n",
       "    }\n",
       "\n",
       "    .dataframe thead th {\n",
       "        text-align: right;\n",
       "    }\n",
       "</style>\n",
       "<table border=\"1\" class=\"dataframe\">\n",
       "  <thead>\n",
       "    <tr style=\"text-align: right;\">\n",
       "      <th></th>\n",
       "      <th>Respondent_ID</th>\n",
       "      <th>Name</th>\n",
       "      <th>Age</th>\n",
       "      <th>Gender</th>\n",
       "      <th>City_ID</th>\n",
       "      <th>Response_ID</th>\n",
       "      <th>Consume_frequency</th>\n",
       "      <th>Consume_time</th>\n",
       "      <th>Consume_reason</th>\n",
       "      <th>Heard_before</th>\n",
       "      <th>...</th>\n",
       "      <th>Health_concerns</th>\n",
       "      <th>Interest_in_natural_or_organic</th>\n",
       "      <th>Marketing_channels</th>\n",
       "      <th>Packaging_preference</th>\n",
       "      <th>Limited_edition_packaging</th>\n",
       "      <th>Price_range</th>\n",
       "      <th>Purchase_location</th>\n",
       "      <th>Typical_consumption_situations</th>\n",
       "      <th>City</th>\n",
       "      <th>Tier</th>\n",
       "    </tr>\n",
       "  </thead>\n",
       "  <tbody>\n",
       "    <tr>\n",
       "      <th>0</th>\n",
       "      <td>120031</td>\n",
       "      <td>Aniruddh Issac</td>\n",
       "      <td>15-18</td>\n",
       "      <td>Female</td>\n",
       "      <td>CT117</td>\n",
       "      <td>103001</td>\n",
       "      <td>2-3 times a week</td>\n",
       "      <td>To stay awake during work/study</td>\n",
       "      <td>Increased energy and focus</td>\n",
       "      <td>Yes</td>\n",
       "      <td>...</td>\n",
       "      <td>No</td>\n",
       "      <td>Yes</td>\n",
       "      <td>TV commercials</td>\n",
       "      <td>Compact and portable cans</td>\n",
       "      <td>Yes</td>\n",
       "      <td>50-99</td>\n",
       "      <td>Supermarkets</td>\n",
       "      <td>Studying/working late</td>\n",
       "      <td>Ahmedabad</td>\n",
       "      <td>Tier 2</td>\n",
       "    </tr>\n",
       "    <tr>\n",
       "      <th>1</th>\n",
       "      <td>120055</td>\n",
       "      <td>Umang Sarkar</td>\n",
       "      <td>31-45</td>\n",
       "      <td>Non-binary</td>\n",
       "      <td>CT117</td>\n",
       "      <td>103025</td>\n",
       "      <td>Once a week</td>\n",
       "      <td>Before exercise</td>\n",
       "      <td>To enhance sports performance</td>\n",
       "      <td>Yes</td>\n",
       "      <td>...</td>\n",
       "      <td>No</td>\n",
       "      <td>No</td>\n",
       "      <td>Outdoor billboards</td>\n",
       "      <td>Eco-friendly design</td>\n",
       "      <td>No</td>\n",
       "      <td>Above 150</td>\n",
       "      <td>Gyms and fitness centers</td>\n",
       "      <td>Studying/working late</td>\n",
       "      <td>Ahmedabad</td>\n",
       "      <td>Tier 2</td>\n",
       "    </tr>\n",
       "    <tr>\n",
       "      <th>2</th>\n",
       "      <td>120057</td>\n",
       "      <td>Kanav Thaman</td>\n",
       "      <td>19-30</td>\n",
       "      <td>Male</td>\n",
       "      <td>CT117</td>\n",
       "      <td>103027</td>\n",
       "      <td>Daily</td>\n",
       "      <td>Before exercise</td>\n",
       "      <td>To boost performance</td>\n",
       "      <td>No</td>\n",
       "      <td>...</td>\n",
       "      <td>No</td>\n",
       "      <td>Not Sure</td>\n",
       "      <td>TV commercials</td>\n",
       "      <td>Innovative bottle design</td>\n",
       "      <td>No</td>\n",
       "      <td>50-99</td>\n",
       "      <td>Online retailers</td>\n",
       "      <td>Sports/exercise</td>\n",
       "      <td>Ahmedabad</td>\n",
       "      <td>Tier 2</td>\n",
       "    </tr>\n",
       "    <tr>\n",
       "      <th>3</th>\n",
       "      <td>120078</td>\n",
       "      <td>Suhana Ramakrishnan</td>\n",
       "      <td>19-30</td>\n",
       "      <td>Female</td>\n",
       "      <td>CT117</td>\n",
       "      <td>103048</td>\n",
       "      <td>Rarely</td>\n",
       "      <td>Before exercise</td>\n",
       "      <td>To enhance sports performance</td>\n",
       "      <td>No</td>\n",
       "      <td>...</td>\n",
       "      <td>Yes</td>\n",
       "      <td>Yes</td>\n",
       "      <td>TV commercials</td>\n",
       "      <td>Other</td>\n",
       "      <td>Not Sure</td>\n",
       "      <td>100-150</td>\n",
       "      <td>Supermarkets</td>\n",
       "      <td>Sports/exercise</td>\n",
       "      <td>Ahmedabad</td>\n",
       "      <td>Tier 2</td>\n",
       "    </tr>\n",
       "    <tr>\n",
       "      <th>4</th>\n",
       "      <td>120098</td>\n",
       "      <td>Saira Sridhar</td>\n",
       "      <td>19-30</td>\n",
       "      <td>Male</td>\n",
       "      <td>CT117</td>\n",
       "      <td>103068</td>\n",
       "      <td>Daily</td>\n",
       "      <td>Throughout the day</td>\n",
       "      <td>Other</td>\n",
       "      <td>No</td>\n",
       "      <td>...</td>\n",
       "      <td>Yes</td>\n",
       "      <td>No</td>\n",
       "      <td>TV commercials</td>\n",
       "      <td>Compact and portable cans</td>\n",
       "      <td>Yes</td>\n",
       "      <td>100-150</td>\n",
       "      <td>Other</td>\n",
       "      <td>Studying/working late</td>\n",
       "      <td>Ahmedabad</td>\n",
       "      <td>Tier 2</td>\n",
       "    </tr>\n",
       "  </tbody>\n",
       "</table>\n",
       "<p>5 rows × 29 columns</p>\n",
       "</div>"
      ],
      "text/plain": [
       "   Respondent_ID                 Name    Age      Gender City_ID  Response_ID  \\\n",
       "0         120031       Aniruddh Issac  15-18      Female   CT117       103001   \n",
       "1         120055         Umang Sarkar  31-45  Non-binary   CT117       103025   \n",
       "2         120057         Kanav Thaman  19-30        Male   CT117       103027   \n",
       "3         120078  Suhana Ramakrishnan  19-30      Female   CT117       103048   \n",
       "4         120098        Saira Sridhar  19-30        Male   CT117       103068   \n",
       "\n",
       "  Consume_frequency                     Consume_time  \\\n",
       "0  2-3 times a week  To stay awake during work/study   \n",
       "1       Once a week                  Before exercise   \n",
       "2             Daily                  Before exercise   \n",
       "3            Rarely                  Before exercise   \n",
       "4             Daily               Throughout the day   \n",
       "\n",
       "                  Consume_reason Heard_before  ... Health_concerns  \\\n",
       "0     Increased energy and focus          Yes  ...              No   \n",
       "1  To enhance sports performance          Yes  ...              No   \n",
       "2           To boost performance           No  ...              No   \n",
       "3  To enhance sports performance           No  ...             Yes   \n",
       "4                          Other           No  ...             Yes   \n",
       "\n",
       "  Interest_in_natural_or_organic  Marketing_channels  \\\n",
       "0                            Yes      TV commercials   \n",
       "1                             No  Outdoor billboards   \n",
       "2                       Not Sure      TV commercials   \n",
       "3                            Yes      TV commercials   \n",
       "4                             No      TV commercials   \n",
       "\n",
       "        Packaging_preference Limited_edition_packaging Price_range  \\\n",
       "0  Compact and portable cans                       Yes       50-99   \n",
       "1        Eco-friendly design                        No   Above 150   \n",
       "2   Innovative bottle design                        No       50-99   \n",
       "3                      Other                  Not Sure     100-150   \n",
       "4  Compact and portable cans                       Yes     100-150   \n",
       "\n",
       "          Purchase_location Typical_consumption_situations       City    Tier  \n",
       "0              Supermarkets          Studying/working late  Ahmedabad  Tier 2  \n",
       "1  Gyms and fitness centers          Studying/working late  Ahmedabad  Tier 2  \n",
       "2          Online retailers                Sports/exercise  Ahmedabad  Tier 2  \n",
       "3              Supermarkets                Sports/exercise  Ahmedabad  Tier 2  \n",
       "4                     Other          Studying/working late  Ahmedabad  Tier 2  \n",
       "\n",
       "[5 rows x 29 columns]"
      ]
     },
     "execution_count": 12,
     "metadata": {},
     "output_type": "execute_result"
    }
   ],
   "source": [
    "survey.head()"
   ]
  },
  {
   "cell_type": "markdown",
   "id": "86e375ec",
   "metadata": {},
   "source": [
    "### Ques1. Who prefers energy drink more? (male/female/non-binary?)"
   ]
  },
  {
   "cell_type": "code",
   "execution_count": 13,
   "id": "bd64b482",
   "metadata": {},
   "outputs": [
    {
     "name": "stdout",
     "output_type": "stream",
     "text": [
      "Male          60.38\n",
      "Female        34.55\n",
      "Non-binary     5.07\n",
      "Name: Gender, dtype: float64\n"
     ]
    },
    {
     "data": {
      "text/html": [
       "<div>\n",
       "<style scoped>\n",
       "    .dataframe tbody tr th:only-of-type {\n",
       "        vertical-align: middle;\n",
       "    }\n",
       "\n",
       "    .dataframe tbody tr th {\n",
       "        vertical-align: top;\n",
       "    }\n",
       "\n",
       "    .dataframe thead th {\n",
       "        text-align: right;\n",
       "    }\n",
       "</style>\n",
       "<table border=\"1\" class=\"dataframe\">\n",
       "  <thead>\n",
       "    <tr style=\"text-align: right;\">\n",
       "      <th>Consume_frequency</th>\n",
       "      <th>2-3 times a month</th>\n",
       "      <th>2-3 times a week</th>\n",
       "      <th>Daily</th>\n",
       "      <th>Once a week</th>\n",
       "      <th>Rarely</th>\n",
       "    </tr>\n",
       "    <tr>\n",
       "      <th>Gender</th>\n",
       "      <th></th>\n",
       "      <th></th>\n",
       "      <th></th>\n",
       "      <th></th>\n",
       "      <th></th>\n",
       "    </tr>\n",
       "  </thead>\n",
       "  <tbody>\n",
       "    <tr>\n",
       "      <th>Male</th>\n",
       "      <td>968</td>\n",
       "      <td>2094</td>\n",
       "      <td>817</td>\n",
       "      <td>973</td>\n",
       "      <td>1186</td>\n",
       "    </tr>\n",
       "    <tr>\n",
       "      <th>Female</th>\n",
       "      <td>549</td>\n",
       "      <td>1217</td>\n",
       "      <td>466</td>\n",
       "      <td>561</td>\n",
       "      <td>662</td>\n",
       "    </tr>\n",
       "    <tr>\n",
       "      <th>Non-binary</th>\n",
       "      <td>96</td>\n",
       "      <td>180</td>\n",
       "      <td>63</td>\n",
       "      <td>75</td>\n",
       "      <td>93</td>\n",
       "    </tr>\n",
       "  </tbody>\n",
       "</table>\n",
       "</div>"
      ],
      "text/plain": [
       "Consume_frequency  2-3 times a month  2-3 times a week  Daily  Once a week  \\\n",
       "Gender                                                                       \n",
       "Male                             968              2094    817          973   \n",
       "Female                           549              1217    466          561   \n",
       "Non-binary                        96               180     63           75   \n",
       "\n",
       "Consume_frequency  Rarely  \n",
       "Gender                     \n",
       "Male                 1186  \n",
       "Female                662  \n",
       "Non-binary             93  "
      ]
     },
     "execution_count": 13,
     "metadata": {},
     "output_type": "execute_result"
    }
   ],
   "source": [
    "#Checking preference based on gender\n",
    "print(survey['Gender'].value_counts(normalize=True)*100)\n",
    "pd.crosstab(survey['Gender'], survey['Consume_frequency']).sort_values('Daily', ascending=False)"
   ]
  },
  {
   "cell_type": "code",
   "execution_count": 14,
   "id": "d067c742",
   "metadata": {},
   "outputs": [
    {
     "name": "stdout",
     "output_type": "stream",
     "text": [
      "Male          6038\n",
      "Female        3455\n",
      "Non-binary     507\n",
      "Name: Gender, dtype: int64\n"
     ]
    },
    {
     "data": {
      "text/html": [
       "<div>\n",
       "<style scoped>\n",
       "    .dataframe tbody tr th:only-of-type {\n",
       "        vertical-align: middle;\n",
       "    }\n",
       "\n",
       "    .dataframe tbody tr th {\n",
       "        vertical-align: top;\n",
       "    }\n",
       "\n",
       "    .dataframe thead th {\n",
       "        text-align: right;\n",
       "    }\n",
       "</style>\n",
       "<table border=\"1\" class=\"dataframe\">\n",
       "  <thead>\n",
       "    <tr style=\"text-align: right;\">\n",
       "      <th>Consume_frequency</th>\n",
       "      <th>2-3 times a month</th>\n",
       "      <th>2-3 times a week</th>\n",
       "      <th>Daily</th>\n",
       "      <th>Once a week</th>\n",
       "      <th>Rarely</th>\n",
       "    </tr>\n",
       "    <tr>\n",
       "      <th>Gender</th>\n",
       "      <th></th>\n",
       "      <th></th>\n",
       "      <th></th>\n",
       "      <th></th>\n",
       "      <th></th>\n",
       "    </tr>\n",
       "  </thead>\n",
       "  <tbody>\n",
       "    <tr>\n",
       "      <th>Male</th>\n",
       "      <td>968</td>\n",
       "      <td>2094</td>\n",
       "      <td>817</td>\n",
       "      <td>973</td>\n",
       "      <td>1186</td>\n",
       "    </tr>\n",
       "    <tr>\n",
       "      <th>Female</th>\n",
       "      <td>549</td>\n",
       "      <td>1217</td>\n",
       "      <td>466</td>\n",
       "      <td>561</td>\n",
       "      <td>662</td>\n",
       "    </tr>\n",
       "    <tr>\n",
       "      <th>Non-binary</th>\n",
       "      <td>96</td>\n",
       "      <td>180</td>\n",
       "      <td>63</td>\n",
       "      <td>75</td>\n",
       "      <td>93</td>\n",
       "    </tr>\n",
       "  </tbody>\n",
       "</table>\n",
       "</div>"
      ],
      "text/plain": [
       "Consume_frequency  2-3 times a month  2-3 times a week  Daily  Once a week  \\\n",
       "Gender                                                                       \n",
       "Male                             968              2094    817          973   \n",
       "Female                           549              1217    466          561   \n",
       "Non-binary                        96               180     63           75   \n",
       "\n",
       "Consume_frequency  Rarely  \n",
       "Gender                     \n",
       "Male                 1186  \n",
       "Female                662  \n",
       "Non-binary             93  "
      ]
     },
     "execution_count": 14,
     "metadata": {},
     "output_type": "execute_result"
    }
   ],
   "source": [
    "#Checking preference based on gender\n",
    "print(survey['Gender'].value_counts())\n",
    "pd.crosstab(survey['Gender'], survey['Consume_frequency']).sort_values('Daily', ascending=False)"
   ]
  },
  {
   "cell_type": "code",
   "execution_count": 15,
   "id": "93e3991e",
   "metadata": {},
   "outputs": [
    {
     "data": {
      "image/png": "[encoded data removed]",
      "text/plain": [
       "<Figure size 1152x360 with 2 Axes>"
      ]
     },
     "metadata": {
      "needs_background": "light"
     },
     "output_type": "display_data"
    }
   ],
   "source": [
    "fig, ax = plt.subplots(1, 2, figsize=(16, 5))\n",
    "c = ['rosybrown', 'lightcoral', 'coral', 'teal', 'darkslategray', 'aqua', 'steelblue']\n",
    "\n",
    "(survey['Gender'].value_counts(normalize=True)*100).plot.bar(ax=ax[0], color=c)\n",
    "ax[0].set_xticklabels(ax[0].get_xticklabels(), rotation='horizontal')\n",
    "ax[0].set_title('Gender Distribution')\n",
    "\n",
    "pd.crosstab(survey['Gender'], survey['Consume_frequency']).sort_values('Daily', ascending=False).plot.bar(stacked=True, ax=ax[1], color=c)\n",
    "ax[1].set_xticklabels(ax[1].get_xticklabels(), rotation='horizontal')\n",
    "ax[1].set_title('Consumption Frequency by Gender')\n",
    "\n",
    "plt.show()"
   ]
  },
  {
   "cell_type": "markdown",
   "id": "277aacd3",
   "metadata": {},
   "source": [
    "**Observations:**\n",
    "\n",
    "- Gender Distribution: Among the respondents, the majority are males (60.38%), followed by females (34.55%) and non-binary individuals (5.07%).\n",
    "- Consumption Frequency by Gender: When analyzing the consumption frequency of energy drinks based on gender, the following observations can be made:\n",
    "    - Daily Consumption: Males have the highest number of daily energy drink consumers (817), followed by females (466) and non-binary individuals (63).\n",
    "    - Overall Consumption: Males also have higher counts in other consumption frequency categories, such as 2-3 times a week, 2-3 times a month, and once a week.\n",
    "\n",
    "These observations suggest that there is a gender difference in energy drink consumption, with males showing a higher preference and frequency of consumption compared to females and non-binary individuals."
   ]
  },
  {
   "cell_type": "markdown",
   "id": "d03161d7",
   "metadata": {},
   "source": [
    "### Ques2. Which age group prefers energy drinks more?"
   ]
  },
  {
   "cell_type": "code",
   "execution_count": 16,
   "id": "d544018e",
   "metadata": {},
   "outputs": [
    {
     "name": "stdout",
     "output_type": "stream",
     "text": [
      "19-30    55.20\n",
      "31-45    23.76\n",
      "15-18    14.88\n",
      "46-65     4.26\n",
      "65+       1.90\n",
      "Name: Age, dtype: float64\n"
     ]
    },
    {
     "data": {
      "text/html": [
       "<div>\n",
       "<style scoped>\n",
       "    .dataframe tbody tr th:only-of-type {\n",
       "        vertical-align: middle;\n",
       "    }\n",
       "\n",
       "    .dataframe tbody tr th {\n",
       "        vertical-align: top;\n",
       "    }\n",
       "\n",
       "    .dataframe thead th {\n",
       "        text-align: right;\n",
       "    }\n",
       "</style>\n",
       "<table border=\"1\" class=\"dataframe\">\n",
       "  <thead>\n",
       "    <tr style=\"text-align: right;\">\n",
       "      <th>Consume_frequency</th>\n",
       "      <th>2-3 times a month</th>\n",
       "      <th>2-3 times a week</th>\n",
       "      <th>Daily</th>\n",
       "      <th>Once a week</th>\n",
       "      <th>Rarely</th>\n",
       "    </tr>\n",
       "    <tr>\n",
       "      <th>Age</th>\n",
       "      <th></th>\n",
       "      <th></th>\n",
       "      <th></th>\n",
       "      <th></th>\n",
       "      <th></th>\n",
       "    </tr>\n",
       "  </thead>\n",
       "  <tbody>\n",
       "    <tr>\n",
       "      <th>19-30</th>\n",
       "      <td>891</td>\n",
       "      <td>1917</td>\n",
       "      <td>736</td>\n",
       "      <td>888</td>\n",
       "      <td>1088</td>\n",
       "    </tr>\n",
       "    <tr>\n",
       "      <th>31-45</th>\n",
       "      <td>398</td>\n",
       "      <td>809</td>\n",
       "      <td>348</td>\n",
       "      <td>361</td>\n",
       "      <td>460</td>\n",
       "    </tr>\n",
       "    <tr>\n",
       "      <th>15-18</th>\n",
       "      <td>232</td>\n",
       "      <td>539</td>\n",
       "      <td>196</td>\n",
       "      <td>244</td>\n",
       "      <td>277</td>\n",
       "    </tr>\n",
       "    <tr>\n",
       "      <th>46-65</th>\n",
       "      <td>66</td>\n",
       "      <td>155</td>\n",
       "      <td>42</td>\n",
       "      <td>86</td>\n",
       "      <td>77</td>\n",
       "    </tr>\n",
       "    <tr>\n",
       "      <th>65+</th>\n",
       "      <td>26</td>\n",
       "      <td>71</td>\n",
       "      <td>24</td>\n",
       "      <td>30</td>\n",
       "      <td>39</td>\n",
       "    </tr>\n",
       "  </tbody>\n",
       "</table>\n",
       "</div>"
      ],
      "text/plain": [
       "Consume_frequency  2-3 times a month  2-3 times a week  Daily  Once a week  \\\n",
       "Age                                                                          \n",
       "19-30                            891              1917    736          888   \n",
       "31-45                            398               809    348          361   \n",
       "15-18                            232               539    196          244   \n",
       "46-65                             66               155     42           86   \n",
       "65+                               26                71     24           30   \n",
       "\n",
       "Consume_frequency  Rarely  \n",
       "Age                        \n",
       "19-30                1088  \n",
       "31-45                 460  \n",
       "15-18                 277  \n",
       "46-65                  77  \n",
       "65+                    39  "
      ]
     },
     "execution_count": 16,
     "metadata": {},
     "output_type": "execute_result"
    }
   ],
   "source": [
    "#checking preference based on Age\n",
    "print(survey['Age'].value_counts(normalize=True)*100)\n",
    "pd.crosstab(survey['Age'], survey['Consume_frequency']).sort_values('Daily', ascending=False)"
   ]
  },
  {
   "cell_type": "code",
   "execution_count": 17,
   "id": "b8080f2a",
   "metadata": {},
   "outputs": [
    {
     "data": {
      "image/png": "[encoded data removed]",
      "text/plain": [
       "<Figure size 1152x360 with 2 Axes>"
      ]
     },
     "metadata": {
      "needs_background": "light"
     },
     "output_type": "display_data"
    }
   ],
   "source": [
    "fig, ax = plt.subplots(1, 2, figsize=(16, 5))\n",
    "c = ['rosybrown', 'lightcoral', 'coral', 'teal', 'darkslategray', 'aqua', 'steelblue']\n",
    "\n",
    "(survey['Age'].value_counts(normalize=True)*100).plot.bar(ax=ax[0], color=c)\n",
    "ax[0].set_xticklabels(ax[0].get_xticklabels(), rotation='horizontal')\n",
    "ax[0].set_title('Age Group Distribution')\n",
    "\n",
    "pd.crosstab(survey['Age'], survey['Consume_frequency']).sort_values('Daily', ascending=False).plot.bar(stacked=True, ax=ax[1], color=c)\n",
    "ax[1].set_xticklabels(ax[1].get_xticklabels(), rotation='horizontal')\n",
    "ax[1].set_title('Consumption Frequency by Age Group')\n",
    "\n",
    "plt.show()"
   ]
  },
  {
   "cell_type": "markdown",
   "id": "408ac0f1",
   "metadata": {},
   "source": [
    "#### Observations:\n",
    "\n",
    "- Age Group Distribution: Among the respondents, the largest age group is 19-30 (55.20%), followed by 31-45 (23.76%), 15-18 (14.88%), 46-65 (4.26%), and 65+ (1.90%).\n",
    "\n",
    "- Consumption Frequency by Age Group: When analyzing the consumption frequency of energy drinks based on age groups, the following observations can be made:\n",
    "\n",
    "    - Daily Consumption: The age group of 19-30 has the highest number of daily energy drink consumers (736), followed by the age group of 31-45 (348) and 15-18 (196).\n",
    "    - Overall Consumption: In general, the age group of 19-30 has higher counts in other consumption frequency categories as well, such as 2-3 times a month, 2-3 times a week, and once a week.\n",
    "\n",
    "These observations indicate that the age group of 19-30 shows a higher preference and frequency of consuming energy drinks compared to other age groups"
   ]
  },
  {
   "cell_type": "markdown",
   "id": "b6a1e3f8",
   "metadata": {},
   "source": [
    "### Ques3. Which type of marketing reaches the most Youth (15-30)?"
   ]
  },
  {
   "cell_type": "code",
   "execution_count": 18,
   "id": "4634b931",
   "metadata": {},
   "outputs": [
    {
     "data": {
      "text/plain": [
       "19-30    5520\n",
       "31-45    2376\n",
       "15-18    1488\n",
       "46-65     426\n",
       "65+       190\n",
       "Name: Age, dtype: int64"
      ]
     },
     "execution_count": 18,
     "metadata": {},
     "output_type": "execute_result"
    }
   ],
   "source": [
    "survey['Age'].value_counts()"
   ]
  },
  {
   "cell_type": "markdown",
   "id": "4166055c",
   "metadata": {},
   "source": [
    "According to question the target age group is '15-30' and we have two different age groups in data as '15-18' and '19-30' so will filter dataframe where only age '15-18' and '19-30' exists in age column."
   ]
  },
  {
   "cell_type": "code",
   "execution_count": 19,
   "id": "88d549c1",
   "metadata": {},
   "outputs": [],
   "source": [
    "survey1 = survey[(survey['Age'] == '15-18') | (survey['Age'] == '19-30')]"
   ]
  },
  {
   "cell_type": "code",
   "execution_count": 20,
   "id": "f63de9ef",
   "metadata": {},
   "outputs": [
    {
     "data": {
      "text/html": [
       "<div>\n",
       "<style scoped>\n",
       "    .dataframe tbody tr th:only-of-type {\n",
       "        vertical-align: middle;\n",
       "    }\n",
       "\n",
       "    .dataframe tbody tr th {\n",
       "        vertical-align: top;\n",
       "    }\n",
       "\n",
       "    .dataframe thead th {\n",
       "        text-align: right;\n",
       "    }\n",
       "</style>\n",
       "<table border=\"1\" class=\"dataframe\">\n",
       "  <thead>\n",
       "    <tr style=\"text-align: right;\">\n",
       "      <th></th>\n",
       "      <th>Respondent_ID</th>\n",
       "      <th>Name</th>\n",
       "      <th>Age</th>\n",
       "      <th>Gender</th>\n",
       "      <th>City_ID</th>\n",
       "      <th>Response_ID</th>\n",
       "      <th>Consume_frequency</th>\n",
       "      <th>Consume_time</th>\n",
       "      <th>Consume_reason</th>\n",
       "      <th>Heard_before</th>\n",
       "      <th>...</th>\n",
       "      <th>Health_concerns</th>\n",
       "      <th>Interest_in_natural_or_organic</th>\n",
       "      <th>Marketing_channels</th>\n",
       "      <th>Packaging_preference</th>\n",
       "      <th>Limited_edition_packaging</th>\n",
       "      <th>Price_range</th>\n",
       "      <th>Purchase_location</th>\n",
       "      <th>Typical_consumption_situations</th>\n",
       "      <th>City</th>\n",
       "      <th>Tier</th>\n",
       "    </tr>\n",
       "  </thead>\n",
       "  <tbody>\n",
       "    <tr>\n",
       "      <th>0</th>\n",
       "      <td>120031</td>\n",
       "      <td>Aniruddh Issac</td>\n",
       "      <td>15-18</td>\n",
       "      <td>Female</td>\n",
       "      <td>CT117</td>\n",
       "      <td>103001</td>\n",
       "      <td>2-3 times a week</td>\n",
       "      <td>To stay awake during work/study</td>\n",
       "      <td>Increased energy and focus</td>\n",
       "      <td>Yes</td>\n",
       "      <td>...</td>\n",
       "      <td>No</td>\n",
       "      <td>Yes</td>\n",
       "      <td>TV commercials</td>\n",
       "      <td>Compact and portable cans</td>\n",
       "      <td>Yes</td>\n",
       "      <td>50-99</td>\n",
       "      <td>Supermarkets</td>\n",
       "      <td>Studying/working late</td>\n",
       "      <td>Ahmedabad</td>\n",
       "      <td>Tier 2</td>\n",
       "    </tr>\n",
       "    <tr>\n",
       "      <th>2</th>\n",
       "      <td>120057</td>\n",
       "      <td>Kanav Thaman</td>\n",
       "      <td>19-30</td>\n",
       "      <td>Male</td>\n",
       "      <td>CT117</td>\n",
       "      <td>103027</td>\n",
       "      <td>Daily</td>\n",
       "      <td>Before exercise</td>\n",
       "      <td>To boost performance</td>\n",
       "      <td>No</td>\n",
       "      <td>...</td>\n",
       "      <td>No</td>\n",
       "      <td>Not Sure</td>\n",
       "      <td>TV commercials</td>\n",
       "      <td>Innovative bottle design</td>\n",
       "      <td>No</td>\n",
       "      <td>50-99</td>\n",
       "      <td>Online retailers</td>\n",
       "      <td>Sports/exercise</td>\n",
       "      <td>Ahmedabad</td>\n",
       "      <td>Tier 2</td>\n",
       "    </tr>\n",
       "    <tr>\n",
       "      <th>3</th>\n",
       "      <td>120078</td>\n",
       "      <td>Suhana Ramakrishnan</td>\n",
       "      <td>19-30</td>\n",
       "      <td>Female</td>\n",
       "      <td>CT117</td>\n",
       "      <td>103048</td>\n",
       "      <td>Rarely</td>\n",
       "      <td>Before exercise</td>\n",
       "      <td>To enhance sports performance</td>\n",
       "      <td>No</td>\n",
       "      <td>...</td>\n",
       "      <td>Yes</td>\n",
       "      <td>Yes</td>\n",
       "      <td>TV commercials</td>\n",
       "      <td>Other</td>\n",
       "      <td>Not Sure</td>\n",
       "      <td>100-150</td>\n",
       "      <td>Supermarkets</td>\n",
       "      <td>Sports/exercise</td>\n",
       "      <td>Ahmedabad</td>\n",
       "      <td>Tier 2</td>\n",
       "    </tr>\n",
       "    <tr>\n",
       "      <th>4</th>\n",
       "      <td>120098</td>\n",
       "      <td>Saira Sridhar</td>\n",
       "      <td>19-30</td>\n",
       "      <td>Male</td>\n",
       "      <td>CT117</td>\n",
       "      <td>103068</td>\n",
       "      <td>Daily</td>\n",
       "      <td>Throughout the day</td>\n",
       "      <td>Other</td>\n",
       "      <td>No</td>\n",
       "      <td>...</td>\n",
       "      <td>Yes</td>\n",
       "      <td>No</td>\n",
       "      <td>TV commercials</td>\n",
       "      <td>Compact and portable cans</td>\n",
       "      <td>Yes</td>\n",
       "      <td>100-150</td>\n",
       "      <td>Other</td>\n",
       "      <td>Studying/working late</td>\n",
       "      <td>Ahmedabad</td>\n",
       "      <td>Tier 2</td>\n",
       "    </tr>\n",
       "    <tr>\n",
       "      <th>5</th>\n",
       "      <td>120103</td>\n",
       "      <td>Ishaan Raj</td>\n",
       "      <td>19-30</td>\n",
       "      <td>Female</td>\n",
       "      <td>CT117</td>\n",
       "      <td>103073</td>\n",
       "      <td>2-3 times a week</td>\n",
       "      <td>To stay awake during work/study</td>\n",
       "      <td>Increased energy and focus</td>\n",
       "      <td>Yes</td>\n",
       "      <td>...</td>\n",
       "      <td>No</td>\n",
       "      <td>Not Sure</td>\n",
       "      <td>Online ads</td>\n",
       "      <td>Eco-friendly design</td>\n",
       "      <td>No</td>\n",
       "      <td>100-150</td>\n",
       "      <td>Supermarkets</td>\n",
       "      <td>Social outings/parties</td>\n",
       "      <td>Ahmedabad</td>\n",
       "      <td>Tier 2</td>\n",
       "    </tr>\n",
       "  </tbody>\n",
       "</table>\n",
       "<p>5 rows × 29 columns</p>\n",
       "</div>"
      ],
      "text/plain": [
       "   Respondent_ID                 Name    Age  Gender City_ID  Response_ID  \\\n",
       "0         120031       Aniruddh Issac  15-18  Female   CT117       103001   \n",
       "2         120057         Kanav Thaman  19-30    Male   CT117       103027   \n",
       "3         120078  Suhana Ramakrishnan  19-30  Female   CT117       103048   \n",
       "4         120098        Saira Sridhar  19-30    Male   CT117       103068   \n",
       "5         120103           Ishaan Raj  19-30  Female   CT117       103073   \n",
       "\n",
       "  Consume_frequency                     Consume_time  \\\n",
       "0  2-3 times a week  To stay awake during work/study   \n",
       "2             Daily                  Before exercise   \n",
       "3            Rarely                  Before exercise   \n",
       "4             Daily               Throughout the day   \n",
       "5  2-3 times a week  To stay awake during work/study   \n",
       "\n",
       "                  Consume_reason Heard_before  ... Health_concerns  \\\n",
       "0     Increased energy and focus          Yes  ...              No   \n",
       "2           To boost performance           No  ...              No   \n",
       "3  To enhance sports performance           No  ...             Yes   \n",
       "4                          Other           No  ...             Yes   \n",
       "5     Increased energy and focus          Yes  ...              No   \n",
       "\n",
       "  Interest_in_natural_or_organic Marketing_channels  \\\n",
       "0                            Yes     TV commercials   \n",
       "2                       Not Sure     TV commercials   \n",
       "3                            Yes     TV commercials   \n",
       "4                             No     TV commercials   \n",
       "5                       Not Sure         Online ads   \n",
       "\n",
       "        Packaging_preference Limited_edition_packaging Price_range  \\\n",
       "0  Compact and portable cans                       Yes       50-99   \n",
       "2   Innovative bottle design                        No       50-99   \n",
       "3                      Other                  Not Sure     100-150   \n",
       "4  Compact and portable cans                       Yes     100-150   \n",
       "5        Eco-friendly design                        No     100-150   \n",
       "\n",
       "  Purchase_location Typical_consumption_situations       City    Tier  \n",
       "0      Supermarkets          Studying/working late  Ahmedabad  Tier 2  \n",
       "2  Online retailers                Sports/exercise  Ahmedabad  Tier 2  \n",
       "3      Supermarkets                Sports/exercise  Ahmedabad  Tier 2  \n",
       "4             Other          Studying/working late  Ahmedabad  Tier 2  \n",
       "5      Supermarkets         Social outings/parties  Ahmedabad  Tier 2  \n",
       "\n",
       "[5 rows x 29 columns]"
      ]
     },
     "execution_count": 20,
     "metadata": {},
     "output_type": "execute_result"
    }
   ],
   "source": [
    "survey1.head()"
   ]
  },
  {
   "cell_type": "markdown",
   "id": "68d4a4af",
   "metadata": {},
   "source": [
    "Now we have filtered dataframe let's proceed for the analysis"
   ]
  },
  {
   "cell_type": "code",
   "execution_count": 21,
   "id": "b2626dcb",
   "metadata": {},
   "outputs": [
    {
     "data": {
      "text/plain": [
       "Online ads            48.130708\n",
       "TV commercials        25.470890\n",
       "Outdoor billboards    10.017123\n",
       "Other                 10.017123\n",
       "Print media            6.364155\n",
       "Name: Marketing_channels, dtype: float64"
      ]
     },
     "execution_count": 21,
     "metadata": {},
     "output_type": "execute_result"
    }
   ],
   "source": [
    "survey1['Marketing_channels'].value_counts(normalize=True)*100"
   ]
  },
  {
   "cell_type": "code",
   "execution_count": 22,
   "id": "e815e279",
   "metadata": {},
   "outputs": [
    {
     "data": {
      "image/png": "[encoded data removed]",
      "text/plain": [
       "<Figure size 864x360 with 1 Axes>"
      ]
     },
     "metadata": {
      "needs_background": "light"
     },
     "output_type": "display_data"
    }
   ],
   "source": [
    "figure = plt.figure(figsize=[12, 5])\n",
    "c = ['rosybrown', 'lightcoral', 'coral', 'teal', 'darkslategray', 'aqua', 'steelblue']\n",
    "survey1['Marketing_channels'].value_counts().plot.bar(color=c)\n",
    "plt.title('Respondents by Marketing Channels')\n",
    "plt.xticks(rotation='horizontal')\n",
    "plt.show()"
   ]
  },
  {
   "cell_type": "markdown",
   "id": "ec71261f",
   "metadata": {},
   "source": [
    "**Observations:**\n",
    "\n",
    "- Online ads: Among the different marketing channels, online ads seem to have the highest engagement among the age group 15-30, with 48.13% respondents belonging to this age group. \n",
    "- TV Commercials: TV commercials also have a considerable reach among the age group 15-30, with 24.47% respondents. However, the engagement decreases in the older age groups.\n",
    "\n",
    "These observations suggest that for targeting the youth demographic (age group 15-30), focusing on online ads and TV commercials can be more effective in terms of reach and engagement."
   ]
  },
  {
   "cell_type": "markdown",
   "id": "f4c58c09",
   "metadata": {},
   "source": [
    "### Ques4. What are the preferred ingredients of energy drinks among respondents?"
   ]
  },
  {
   "cell_type": "code",
   "execution_count": 23,
   "id": "3b1833a5",
   "metadata": {},
   "outputs": [
    {
     "data": {
      "text/plain": [
       "Caffeine    3896\n",
       "Vitamins    2534\n",
       "Sugar       2017\n",
       "Guarana     1553\n",
       "Name: Ingredients_expected, dtype: int64"
      ]
     },
     "execution_count": 23,
     "metadata": {},
     "output_type": "execute_result"
    }
   ],
   "source": [
    "survey['Ingredients_expected'].value_counts()"
   ]
  },
  {
   "cell_type": "code",
   "execution_count": 24,
   "id": "e86a30b8",
   "metadata": {},
   "outputs": [
    {
     "data": {
      "image/png": "[encoded data removed]",
      "text/plain": [
       "<Figure size 1152x360 with 2 Axes>"
      ]
     },
     "metadata": {
      "needs_background": "light"
     },
     "output_type": "display_data"
    }
   ],
   "source": [
    "fig, ax = plt.subplots(1, 2, figsize=(16, 5))\n",
    "c = ['rosybrown', 'lightcoral', 'coral', 'teal', 'darkslategray', 'aqua', 'steelblue']\n",
    "\n",
    "survey['Ingredients_expected'].value_counts().plot.bar(ax=ax[0],color=c)\n",
    "ax[0].set_xticklabels(ax[0].get_xticklabels(), rotation='horizontal')\n",
    "ax[0].set_title('Preferred Ingredients of Energy Drinks')\n",
    "\n",
    "survey['Ingredients_expected'].value_counts().plot(kind='pie', fontsize=14,explode=[0.05,0.01,0.01,0.01],\n",
    "                                       autopct='%1.1f%%', \n",
    "                                       shadow=True, startangle=100, cmap='viridis_r')\n",
    "plt.ylabel('')\n",
    "plt.title('Preferred Ingredients of Energy Drinks')\n",
    "\n",
    "plt.show()"
   ]
  },
  {
   "cell_type": "markdown",
   "id": "8668725c",
   "metadata": {},
   "source": [
    "**Observations:**\n",
    "\n",
    "- 39% respondents mentioned caffeine as an expected ingredient in energy drinks. Caffeine is a common ingredient in energy drinks known for its stimulant effects and ability to enhance alertness and energy levels \n",
    "- It shows that caffeine is the most commonly expected ingredient, followed by vitamins, sugar, and guarana."
   ]
  },
  {
   "cell_type": "markdown",
   "id": "d92d7db3",
   "metadata": {},
   "source": [
    "### Ques5. What packaging preferences do respondents have for energy drinks?"
   ]
  },
  {
   "cell_type": "code",
   "execution_count": 25,
   "id": "2d318599",
   "metadata": {},
   "outputs": [
    {
     "data": {
      "text/plain": [
       "Compact and portable cans    3984\n",
       "Innovative bottle design     3047\n",
       "Collectible packaging        1501\n",
       "Eco-friendly design           983\n",
       "Other                         485\n",
       "Name: Packaging_preference, dtype: int64"
      ]
     },
     "execution_count": 25,
     "metadata": {},
     "output_type": "execute_result"
    }
   ],
   "source": [
    "survey['Packaging_preference'].value_counts()"
   ]
  },
  {
   "cell_type": "code",
   "execution_count": 26,
   "id": "15a247ee",
   "metadata": {},
   "outputs": [
    {
     "data": {
      "image/png": "[encoded data removed]",
      "text/plain": [
       "<Figure size 864x360 with 1 Axes>"
      ]
     },
     "metadata": {
      "needs_background": "light"
     },
     "output_type": "display_data"
    }
   ],
   "source": [
    "figure = plt.figure(figsize=[12, 5])\n",
    "c = ['rosybrown', 'lightcoral', 'coral', 'teal', 'darkslategray', 'aqua', 'steelblue']\n",
    "survey['Packaging_preference'].value_counts().plot.bar(color=c)\n",
    "plt.xticks(rotation='horizontal')\n",
    "plt.show()"
   ]
  },
  {
   "cell_type": "code",
   "execution_count": 27,
   "id": "05f6b142",
   "metadata": {},
   "outputs": [
    {
     "data": {
      "image/png": "[encoded data removed]",
      "text/plain": [
       "<Figure size 576x576 with 1 Axes>"
      ]
     },
     "metadata": {},
     "output_type": "display_data"
    }
   ],
   "source": [
    "figure = plt.figure(figsize=[8,8])\n",
    "survey['Packaging_preference'].value_counts().plot(kind='pie', fontsize=14,explode=[0.05,0.01,0.01,0.01,0.01],\n",
    "                                       autopct='%3.1f%%',wedgeprops=dict(width=0.70),\n",
    "                                       shadow=True, startangle=100, cmap='viridis_r')\n",
    "\n",
    "plt.ylabel('')\n",
    "plt.show()"
   ]
  },
  {
   "cell_type": "markdown",
   "id": "97654d9a",
   "metadata": {},
   "source": [
    "**Observations:**\n",
    "\n",
    "- Approximately 39.84% of the respondents expressed a preference for energy drinks packaged in compact and portable cans. \n",
    "-  It shows that compact and portable cans are the most preferred packaging option, followed by innovative bottle design, collectible packaging, and eco-friendly design. The \"Other\" category represents a smaller proportion of respondents who have unique or specific packaging preferences."
   ]
  },
  {
   "cell_type": "markdown",
   "id": "7ff482f4",
   "metadata": {},
   "source": [
    "### Ques6. Who are the current market leaders?"
   ]
  },
  {
   "cell_type": "code",
   "execution_count": 28,
   "id": "764ca3c2",
   "metadata": {},
   "outputs": [
    {
     "data": {
      "text/plain": [
       "Cola-Coka    2538\n",
       "Bepsi        2112\n",
       "Gangster     1854\n",
       "Blue Bull    1058\n",
       "CodeX         980\n",
       "Sky 9         979\n",
       "Others        479\n",
       "Name: Current_brands, dtype: int64"
      ]
     },
     "execution_count": 28,
     "metadata": {},
     "output_type": "execute_result"
    }
   ],
   "source": [
    "survey['Current_brands'].value_counts()"
   ]
  },
  {
   "cell_type": "code",
   "execution_count": 29,
   "id": "f5666e0a",
   "metadata": {},
   "outputs": [
    {
     "data": {
      "image/png": "[encoded data removed]",
      "text/plain": [
       "<Figure size 864x504 with 1 Axes>"
      ]
     },
     "metadata": {
      "needs_background": "light"
     },
     "output_type": "display_data"
    }
   ],
   "source": [
    "figure = plt.figure(figsize=[12, 7])\n",
    "survey['Current_brands'].value_counts().plot.bar(color=['khaki', 'darkkhaki','lightgreen','darkseagreen','yellowgreen','olivedrab','tan'])\n",
    "plt.xticks(rotation='horizontal')\n",
    "plt.show()"
   ]
  },
  {
   "cell_type": "code",
   "execution_count": 30,
   "id": "eac61f29",
   "metadata": {},
   "outputs": [
    {
     "data": {
      "image/png": "[encoded data removed]",
      "text/plain": [
       "<Figure size 576x576 with 1 Axes>"
      ]
     },
     "metadata": {},
     "output_type": "display_data"
    }
   ],
   "source": [
    "figure = plt.figure(figsize=[8,8])\n",
    "space=np.ones(7)/15\n",
    "survey['Current_brands'].value_counts().plot(kind='pie', fontsize=14,explode=space,\n",
    "                                       autopct='%3.1f%%', wedgeprops=dict(width=0.70),\n",
    "                                       shadow=True, startangle=100, cmap='viridis_r')\n",
    "\n",
    "plt.ylabel('')\n",
    "plt.show()"
   ]
  },
  {
   "cell_type": "markdown",
   "id": "fc271af8",
   "metadata": {},
   "source": [
    "**Observations:**\n",
    "\n",
    "- Approximately 25.4% of the respondents indicated a preference for Cola-Coka energy drink. \n",
    "-  Cola-Coka appears to be the most preferred brand, followed by Bepsi and Gangster. CodeX and Sky 9 have similar levels of preference, while Blue Bull holds a lower but still notable percentage."
   ]
  },
  {
   "cell_type": "markdown",
   "id": "7d9364fe",
   "metadata": {},
   "source": [
    "### Ques7. What are the primary reasons consumers prefer those brands over ours?"
   ]
  },
  {
   "cell_type": "code",
   "execution_count": 31,
   "id": "fd9715b7",
   "metadata": {},
   "outputs": [
    {
     "data": {
      "text/plain": [
       "Brand reputation           2652\n",
       "Taste/flavor preference    2011\n",
       "Availability               1910\n",
       "Effectiveness              1748\n",
       "Other                      1679\n",
       "Name: Reasons_for_choosing_brands, dtype: int64"
      ]
     },
     "execution_count": 31,
     "metadata": {},
     "output_type": "execute_result"
    }
   ],
   "source": [
    "survey['Reasons_for_choosing_brands'].value_counts()"
   ]
  },
  {
   "cell_type": "code",
   "execution_count": 32,
   "id": "22c0dec1",
   "metadata": {},
   "outputs": [
    {
     "data": {
      "image/png": "[encoded data removed]",
      "text/plain": [
       "<Figure size 864x360 with 1 Axes>"
      ]
     },
     "metadata": {
      "needs_background": "light"
     },
     "output_type": "display_data"
    }
   ],
   "source": [
    "figure = plt.figure(figsize=[12, 5])\n",
    "survey['Reasons_for_choosing_brands'].value_counts().plot.bar(color=['khaki', 'darkkhaki','lightgreen','darkseagreen','yellowgreen'])\n",
    "plt.xticks(rotation='horizontal')\n",
    "plt.show()"
   ]
  },
  {
   "cell_type": "code",
   "execution_count": 33,
   "id": "fa281020",
   "metadata": {},
   "outputs": [
    {
     "data": {
      "image/png": "[encoded data removed]",
      "text/plain": [
       "<Figure size 576x576 with 1 Axes>"
      ]
     },
     "metadata": {},
     "output_type": "display_data"
    }
   ],
   "source": [
    "figure = plt.figure(figsize=[8,8])\n",
    "space= np.ones(5)/20\n",
    "\n",
    "survey['Reasons_for_choosing_brands'].value_counts().plot(kind='pie', fontsize=14,explode=space,\n",
    "                                       autopct='%3.1f%%',  wedgeprops=dict(width=0.70),\n",
    "                                       shadow=True, startangle=100, cmap='viridis_r')\n",
    "\n",
    "plt.ylabel('')\n",
    "plt.show()"
   ]
  },
  {
   "cell_type": "markdown",
   "id": "a7d1e860",
   "metadata": {},
   "source": [
    "#### Observations:\n",
    "\n",
    "- Approximately 26.5% of the respondents mentioned that they prefer the current brands due to their reputation. This indicates that the brands have established a positive image and trust among consumers. \n",
    "-  These insights highlight the key factors influencing consumers' preferences for the current energy drink brands over CodeX. By understanding these reasons, the marketing team can identify areas for improvement and develop strategies to address consumer preferences and differentiate CodeX in the market"
   ]
  },
  {
   "cell_type": "markdown",
   "id": "c5bbe2c4",
   "metadata": {},
   "source": [
    "### Ques8. Which marketing channel can be used to reach more customers?"
   ]
  },
  {
   "cell_type": "code",
   "execution_count": 34,
   "id": "a781ceb4",
   "metadata": {},
   "outputs": [
    {
     "data": {
      "text/plain": [
       "Online ads            4020\n",
       "TV commercials        2688\n",
       "Outdoor billboards    1226\n",
       "Other                 1225\n",
       "Print media            841\n",
       "Name: Marketing_channels, dtype: int64"
      ]
     },
     "execution_count": 34,
     "metadata": {},
     "output_type": "execute_result"
    }
   ],
   "source": [
    "survey['Marketing_channels'].value_counts()"
   ]
  },
  {
   "cell_type": "code",
   "execution_count": 35,
   "id": "e98d191d",
   "metadata": {},
   "outputs": [
    {
     "data": {
      "image/png": "[encoded data removed]",
      "text/plain": [
       "<Figure size 864x360 with 1 Axes>"
      ]
     },
     "metadata": {
      "needs_background": "light"
     },
     "output_type": "display_data"
    }
   ],
   "source": [
    "figure = plt.figure(figsize=[12, 5])\n",
    "survey['Marketing_channels'].value_counts().plot.bar(color=['khaki', 'darkkhaki','lightgreen','darkseagreen','yellowgreen'])\n",
    "plt.xticks(rotation='horizontal')\n",
    "plt.show()"
   ]
  },
  {
   "cell_type": "code",
   "execution_count": 36,
   "id": "3f199b0d",
   "metadata": {},
   "outputs": [
    {
     "data": {
      "image/png": "[encoded data removed]",
      "text/plain": [
       "<Figure size 576x576 with 1 Axes>"
      ]
     },
     "metadata": {},
     "output_type": "display_data"
    }
   ],
   "source": [
    "figure = plt.figure(figsize=[8,8])\n",
    "space= np.ones(5)/20\n",
    "\n",
    "survey['Marketing_channels'].value_counts().plot(kind='pie', fontsize=14,explode=space,\n",
    "                                       autopct='%3.1f%%',  wedgeprops=dict(width=0.70),\n",
    "                                       shadow=True, startangle=100, cmap='viridis')\n",
    "\n",
    "plt.ylabel('')\n",
    "plt.show()"
   ]
  },
  {
   "cell_type": "markdown",
   "id": "3c7732a9",
   "metadata": {},
   "source": [
    "#### Observations:\n",
    "\n",
    "- \"Online ads\" is the most preferred marketing channel, with 40.2% of respondents indicating their preference for this channel.\n",
    "-  Therefore, based on the survey results, using online ads as a marketing channel can potentially reach more customers in the given context. The marketing team may consider allocating resources and designing effective online ad campaigns to target a larger customer base"
   ]
  },
  {
   "cell_type": "markdown",
   "id": "39b03aed",
   "metadata": {},
   "source": [
    "### Ques9. How effective are different marketing strategies and channels in reaching our customers?"
   ]
  },
  {
   "cell_type": "code",
   "execution_count": 37,
   "id": "c34f3fb8",
   "metadata": {},
   "outputs": [
    {
     "data": {
      "text/plain": [
       "No     5553\n",
       "Yes    4447\n",
       "Name: Heard_before, dtype: int64"
      ]
     },
     "execution_count": 37,
     "metadata": {},
     "output_type": "execute_result"
    }
   ],
   "source": [
    "survey['Heard_before'].value_counts()"
   ]
  },
  {
   "cell_type": "code",
   "execution_count": 38,
   "id": "cf41e3a8",
   "metadata": {},
   "outputs": [
    {
     "data": {
      "image/png": "[encoded data removed]",
      "text/plain": [
       "<Figure size 504x360 with 1 Axes>"
      ]
     },
     "metadata": {
      "needs_background": "light"
     },
     "output_type": "display_data"
    }
   ],
   "source": [
    "figure = plt.figure(figsize=[7,5])\n",
    "survey['Heard_before'].value_counts().plot.bar(color=['darkseagreen','yellowgreen'])\n",
    "plt.xticks(rotation='horizontal')\n",
    "plt.show()"
   ]
  },
  {
   "cell_type": "code",
   "execution_count": 39,
   "id": "cb3bc69b",
   "metadata": {},
   "outputs": [
    {
     "data": {
      "image/png": "[encoded data removed]",
      "text/plain": [
       "<Figure size 360x360 with 1 Axes>"
      ]
     },
     "metadata": {},
     "output_type": "display_data"
    }
   ],
   "source": [
    "figure = plt.figure(figsize=[5,5])\n",
    "survey['Heard_before'].value_counts().plot(kind='pie', fontsize=14,explode=[0.05,0.01],\n",
    "                                       autopct='%3.1f%%',\n",
    "                                       shadow=True, startangle=100, cmap='tab20b')\n",
    "plt.ylabel('')\n",
    "plt.show()"
   ]
  },
  {
   "cell_type": "markdown",
   "id": "bc56ca3d",
   "metadata": {},
   "source": [
    "#### Observations:\n",
    "\n",
    "- Based on the survey data, approximately 44.5% of respondents have heard about our brand through different marketing channels. This indicates that the marketing strategies and channels have been somewhat effective in reaching a portion of our target customers.\n",
    "-  However, it's important to note that 55.5% of respondents have not heard about our brand before. This suggests that there is still room for improvement in reaching a wider audience and increasing brand awareness."
   ]
  },
  {
   "cell_type": "markdown",
   "id": "f61c4594",
   "metadata": {},
   "source": [
    "Additionally, it would be beneficial to analyze the response data in more detail to identify the specific marketing strategies and channels that have been most effective in reaching target customers. This analysis can help in optimizing marketing efforts and allocate resources to the most impactful channels to increase customer reach and improve overall effectiveness."
   ]
  },
  {
   "cell_type": "code",
   "execution_count": 40,
   "id": "a4763a82",
   "metadata": {},
   "outputs": [
    {
     "data": {
      "text/html": [
       "<div>\n",
       "<style scoped>\n",
       "    .dataframe tbody tr th:only-of-type {\n",
       "        vertical-align: middle;\n",
       "    }\n",
       "\n",
       "    .dataframe tbody tr th {\n",
       "        vertical-align: top;\n",
       "    }\n",
       "\n",
       "    .dataframe thead th {\n",
       "        text-align: right;\n",
       "    }\n",
       "</style>\n",
       "<table border=\"1\" class=\"dataframe\">\n",
       "  <thead>\n",
       "    <tr style=\"text-align: right;\">\n",
       "      <th>Heard_before</th>\n",
       "      <th>No</th>\n",
       "      <th>Yes</th>\n",
       "    </tr>\n",
       "    <tr>\n",
       "      <th>Marketing_channels</th>\n",
       "      <th></th>\n",
       "      <th></th>\n",
       "    </tr>\n",
       "  </thead>\n",
       "  <tbody>\n",
       "    <tr>\n",
       "      <th>Online ads</th>\n",
       "      <td>2215</td>\n",
       "      <td>1805</td>\n",
       "    </tr>\n",
       "    <tr>\n",
       "      <th>TV commercials</th>\n",
       "      <td>1431</td>\n",
       "      <td>1257</td>\n",
       "    </tr>\n",
       "    <tr>\n",
       "      <th>Outdoor billboards</th>\n",
       "      <td>702</td>\n",
       "      <td>524</td>\n",
       "    </tr>\n",
       "    <tr>\n",
       "      <th>Other</th>\n",
       "      <td>735</td>\n",
       "      <td>490</td>\n",
       "    </tr>\n",
       "    <tr>\n",
       "      <th>Print media</th>\n",
       "      <td>470</td>\n",
       "      <td>371</td>\n",
       "    </tr>\n",
       "  </tbody>\n",
       "</table>\n",
       "</div>"
      ],
      "text/plain": [
       "Heard_before          No   Yes\n",
       "Marketing_channels            \n",
       "Online ads          2215  1805\n",
       "TV commercials      1431  1257\n",
       "Outdoor billboards   702   524\n",
       "Other                735   490\n",
       "Print media          470   371"
      ]
     },
     "execution_count": 40,
     "metadata": {},
     "output_type": "execute_result"
    }
   ],
   "source": [
    "pd.crosstab(survey['Marketing_channels'], survey['Heard_before']).sort_values('Yes', ascending=False)"
   ]
  },
  {
   "cell_type": "code",
   "execution_count": 41,
   "id": "57075c88",
   "metadata": {},
   "outputs": [
    {
     "data": {
      "image/png": "[encoded data removed]",
      "text/plain": [
       "<Figure size 1296x504 with 1 Axes>"
      ]
     },
     "metadata": {
      "needs_background": "light"
     },
     "output_type": "display_data"
    }
   ],
   "source": [
    "fig, ax = plt.subplots(figsize=(18,7))\n",
    "pd.crosstab(survey['Marketing_channels'], survey['Heard_before']).sort_values('Yes', ascending=False).plot.bar(ax=ax, color=['lightsalmon','firebrick'])\n",
    "plt.xticks(rotation='horizontal')\n",
    "plt.show()"
   ]
  },
  {
   "cell_type": "markdown",
   "id": "7d0d9f15",
   "metadata": {},
   "source": [
    "These numbers provide insights into the effectiveness of each marketing channel in reaching target customers.\n",
    "\n",
    "- Among the respondents who have heard about the brand before, the majority attributed their awareness to online ads, which made the largest contribution. This was closely followed by TV commercials and outdoor billboards as effective marketing channels for creating brand awareness."
   ]
  },
  {
   "cell_type": "markdown",
   "id": "8abf4753",
   "metadata": {},
   "source": [
    "### Ques10. What do people think about our brand? (overall rating)"
   ]
  },
  {
   "cell_type": "markdown",
   "id": "d781a7dd",
   "metadata": {},
   "source": [
    "To analyze the overall rating of respondents about the CodeX brand, we can consider specific survey questions related to brand perception and taste experience. By examining the responses to these questions, we can gain insights into people's opinions about our brand."
   ]
  },
  {
   "cell_type": "code",
   "execution_count": 42,
   "id": "b434aaa5",
   "metadata": {},
   "outputs": [
    {
     "data": {
      "text/plain": [
       "Neutral     5974\n",
       "Positive    2257\n",
       "Negative    1769\n",
       "Name: Brand_perception, dtype: int64"
      ]
     },
     "execution_count": 42,
     "metadata": {},
     "output_type": "execute_result"
    }
   ],
   "source": [
    "survey['Brand_perception'].value_counts()"
   ]
  },
  {
   "cell_type": "code",
   "execution_count": 43,
   "id": "756efd59",
   "metadata": {},
   "outputs": [
    {
     "data": {
      "image/png": "[encoded data removed]",
      "text/plain": [
       "<Figure size 504x360 with 1 Axes>"
      ]
     },
     "metadata": {
      "needs_background": "light"
     },
     "output_type": "display_data"
    }
   ],
   "source": [
    "figure = plt.figure(figsize=[7,5])\n",
    "survey['Brand_perception'].value_counts().plot.bar(color=['rosybrown', 'lightcoral','lightsalmon'])\n",
    "plt.xticks(rotation='horizontal')\n",
    "plt.show()"
   ]
  },
  {
   "cell_type": "markdown",
   "id": "6e882402",
   "metadata": {},
   "source": [
    "**Observations:**\n",
    "\n",
    "- The positive perception of brand is relatively lower compared to the neutral perception. This indicates the need to focus on enhancing the positive aspects of our brand and effectively communicating them to the target audience.\n",
    "\n",
    "It is crucial to analyze the factors contributing to the neutral and negative perceptions, such as brand messaging, customer experiences, and competitors' influence, to identify areas for improvement and devise strategies for brand enhancement."
   ]
  },
  {
   "cell_type": "code",
   "execution_count": 44,
   "id": "d4ff380f",
   "metadata": {},
   "outputs": [
    {
     "data": {
      "text/plain": [
       "3    2957\n",
       "4    2479\n",
       "5    1986\n",
       "2    1524\n",
       "1    1054\n",
       "Name: Taste_experience, dtype: int64"
      ]
     },
     "execution_count": 44,
     "metadata": {},
     "output_type": "execute_result"
    }
   ],
   "source": [
    "survey['Taste_experience'].value_counts()"
   ]
  },
  {
   "cell_type": "code",
   "execution_count": 45,
   "id": "bab48ef0",
   "metadata": {},
   "outputs": [
    {
     "data": {
      "image/png": "[encoded data removed]",
      "text/plain": [
       "<Figure size 504x360 with 1 Axes>"
      ]
     },
     "metadata": {
      "needs_background": "light"
     },
     "output_type": "display_data"
    }
   ],
   "source": [
    "figure = plt.figure(figsize=[7,5])\n",
    "survey['Taste_experience'].value_counts().plot.bar(color=['rosybrown', 'lightcoral','lightsalmon','red'])\n",
    "plt.xticks(rotation='horizontal')\n",
    "plt.show()"
   ]
  },
  {
   "cell_type": "markdown",
   "id": "8ecde2d2",
   "metadata": {},
   "source": [
    "#### Observations:\n",
    "\n",
    "- The majority of respondents rated their taste experience with the CodeX brand as 3(Average), indicating a Moderate satisfaction level.\n",
    "- Ratings 4(good) and 5(excellent), representing higher levels of satisfaction.\n",
    "- However, there are also a significant number of respondents who gave lower ratings of 1(poor) and 2(below average), suggesting that there is room for improvement in taste experience.\n",
    "\n",
    "These insights highlight that while a considerable portion of respondents are satisfied with the taste of CodeX energy drinks, there is still a need to address the preferences of those who provided lower ratings. This information can be valuable for identifying areas of improvement and enhancing the taste experience of the CodeX brand."
   ]
  },
  {
   "cell_type": "markdown",
   "id": "235c7faf",
   "metadata": {},
   "source": [
    "### Ques11. Which cities do we need to focus more on?"
   ]
  },
  {
   "cell_type": "markdown",
   "id": "a1fa07b0",
   "metadata": {},
   "source": [
    "To determine the cities on which we need to focus more, we can analyze the data using the following approaches:\n",
    "1. Frequency of respondents from each city:\n",
    "    - This approach helps us identify the cities where our survey has received the most responses, indicating higher engagement or awareness in those cities.\n",
    "2. Consumption frequency of respondents:\n",
    "    - This approach helps us understand the consumption patterns and preferences of respondents in different cities, allowing us to tailor our marketing strategies and product offerings accordingly.\n",
    "3. Awareness about the energy drink:\n",
    "    - This approach helps us identify the cities where our brand awareness is relatively low, indicating a need to focus on marketing and promotional activities in those areas."
   ]
  },
  {
   "cell_type": "code",
   "execution_count": 46,
   "id": "086b0719",
   "metadata": {
    "scrolled": true
   },
   "outputs": [
    {
     "data": {
      "text/plain": [
       "Bangalore    2828\n",
       "Hyderabad    1833\n",
       "Mumbai       1510\n",
       "Chennai       937\n",
       "Pune          906\n",
       "Kolkata       566\n",
       "Ahmedabad     456\n",
       "Delhi         429\n",
       "Jaipur        360\n",
       "Lucknow       175\n",
       "Name: City, dtype: int64"
      ]
     },
     "execution_count": 46,
     "metadata": {},
     "output_type": "execute_result"
    }
   ],
   "source": [
    "#Frequency of respondents from each city\n",
    "survey['City'].value_counts()"
   ]
  },
  {
   "cell_type": "code",
   "execution_count": 47,
   "id": "3437a398",
   "metadata": {},
   "outputs": [
    {
     "data": {
      "image/png": "[encoded data removed]",
      "text/plain": [
       "<Figure size 1080x504 with 1 Axes>"
      ]
     },
     "metadata": {
      "needs_background": "light"
     },
     "output_type": "display_data"
    }
   ],
   "source": [
    "figure = plt.figure(figsize=[15,7])\n",
    "c = ['rosybrown','lightcoral','coral','indianred','tomato','red','chocolate','brown','firebrick','maroon']\n",
    "survey['City'].value_counts().plot.bar(color = c)\n",
    "plt.xticks(rotation='horizontal')\n",
    "plt.show()"
   ]
  },
  {
   "cell_type": "markdown",
   "id": "a0178653",
   "metadata": {},
   "source": [
    "**Observations:**\n",
    "\n",
    "- Bangalore has the highest percentage of respondents (28.3%), indicating a significant presence of potential customers in the city. This suggests that Bangalore should be a key focus area for marketing and promotional activities.\n",
    "- Hyderabad follows closely with 18.3% of respondents, suggesting it is another city with a sizable customer base. Allocating resources to target Hyderabad would be beneficial.\n",
    "- Mumbai and Chennai have 15.1% and 9.4% of respondents, respectively, indicating a moderate customer presence. These cities should also be considered for marketing efforts to tap into their market potential.\n",
    "- Pune and Kolkata have relatively lower percentages of respondents (9.1% and 5.7% respectively), but they still represent significant customer bases. Targeted marketing campaigns and brand awareness initiatives in these cities can help expand our reach.\n",
    "- Ahmedabad, Delhi, Jaipur, and Lucknow have smaller percentages of respondents (ranging from 4.6% to 1.7%), suggesting a comparatively lower level of customer engagement or awareness. These cities present an opportunity for us to focus on increasing brand visibility and market penetration."
   ]
  },
  {
   "cell_type": "code",
   "execution_count": 48,
   "id": "8fa4303b",
   "metadata": {},
   "outputs": [
    {
     "data": {
      "text/html": [
       "<div>\n",
       "<style scoped>\n",
       "    .dataframe tbody tr th:only-of-type {\n",
       "        vertical-align: middle;\n",
       "    }\n",
       "\n",
       "    .dataframe tbody tr th {\n",
       "        vertical-align: top;\n",
       "    }\n",
       "\n",
       "    .dataframe thead th {\n",
       "        text-align: right;\n",
       "    }\n",
       "</style>\n",
       "<table border=\"1\" class=\"dataframe\">\n",
       "  <thead>\n",
       "    <tr style=\"text-align: right;\">\n",
       "      <th>Consume_frequency</th>\n",
       "      <th>2-3 times a month</th>\n",
       "      <th>2-3 times a week</th>\n",
       "      <th>Daily</th>\n",
       "      <th>Once a week</th>\n",
       "      <th>Rarely</th>\n",
       "    </tr>\n",
       "    <tr>\n",
       "      <th>City</th>\n",
       "      <th></th>\n",
       "      <th></th>\n",
       "      <th></th>\n",
       "      <th></th>\n",
       "      <th></th>\n",
       "    </tr>\n",
       "  </thead>\n",
       "  <tbody>\n",
       "    <tr>\n",
       "      <th>Chennai</th>\n",
       "      <td>211</td>\n",
       "      <td>90</td>\n",
       "      <td>378</td>\n",
       "      <td>87</td>\n",
       "      <td>171</td>\n",
       "    </tr>\n",
       "    <tr>\n",
       "      <th>Bangalore</th>\n",
       "      <td>562</td>\n",
       "      <td>1432</td>\n",
       "      <td>302</td>\n",
       "      <td>272</td>\n",
       "      <td>260</td>\n",
       "    </tr>\n",
       "    <tr>\n",
       "      <th>Delhi</th>\n",
       "      <td>84</td>\n",
       "      <td>62</td>\n",
       "      <td>163</td>\n",
       "      <td>42</td>\n",
       "      <td>78</td>\n",
       "    </tr>\n",
       "    <tr>\n",
       "      <th>Mumbai</th>\n",
       "      <td>313</td>\n",
       "      <td>767</td>\n",
       "      <td>143</td>\n",
       "      <td>140</td>\n",
       "      <td>147</td>\n",
       "    </tr>\n",
       "    <tr>\n",
       "      <th>Hyderabad</th>\n",
       "      <td>86</td>\n",
       "      <td>392</td>\n",
       "      <td>95</td>\n",
       "      <td>527</td>\n",
       "      <td>733</td>\n",
       "    </tr>\n",
       "    <tr>\n",
       "      <th>Jaipur</th>\n",
       "      <td>64</td>\n",
       "      <td>73</td>\n",
       "      <td>91</td>\n",
       "      <td>89</td>\n",
       "      <td>43</td>\n",
       "    </tr>\n",
       "    <tr>\n",
       "      <th>Pune</th>\n",
       "      <td>186</td>\n",
       "      <td>454</td>\n",
       "      <td>82</td>\n",
       "      <td>93</td>\n",
       "      <td>91</td>\n",
       "    </tr>\n",
       "    <tr>\n",
       "      <th>Lucknow</th>\n",
       "      <td>39</td>\n",
       "      <td>30</td>\n",
       "      <td>34</td>\n",
       "      <td>51</td>\n",
       "      <td>21</td>\n",
       "    </tr>\n",
       "    <tr>\n",
       "      <th>Kolkata</th>\n",
       "      <td>32</td>\n",
       "      <td>100</td>\n",
       "      <td>32</td>\n",
       "      <td>177</td>\n",
       "      <td>225</td>\n",
       "    </tr>\n",
       "    <tr>\n",
       "      <th>Ahmedabad</th>\n",
       "      <td>36</td>\n",
       "      <td>91</td>\n",
       "      <td>26</td>\n",
       "      <td>131</td>\n",
       "      <td>172</td>\n",
       "    </tr>\n",
       "  </tbody>\n",
       "</table>\n",
       "</div>"
      ],
      "text/plain": [
       "Consume_frequency  2-3 times a month  2-3 times a week  Daily  Once a week  \\\n",
       "City                                                                         \n",
       "Chennai                          211                90    378           87   \n",
       "Bangalore                        562              1432    302          272   \n",
       "Delhi                             84                62    163           42   \n",
       "Mumbai                           313               767    143          140   \n",
       "Hyderabad                         86               392     95          527   \n",
       "Jaipur                            64                73     91           89   \n",
       "Pune                             186               454     82           93   \n",
       "Lucknow                           39                30     34           51   \n",
       "Kolkata                           32               100     32          177   \n",
       "Ahmedabad                         36                91     26          131   \n",
       "\n",
       "Consume_frequency  Rarely  \n",
       "City                       \n",
       "Chennai               171  \n",
       "Bangalore             260  \n",
       "Delhi                  78  \n",
       "Mumbai                147  \n",
       "Hyderabad             733  \n",
       "Jaipur                 43  \n",
       "Pune                   91  \n",
       "Lucknow                21  \n",
       "Kolkata               225  \n",
       "Ahmedabad             172  "
      ]
     },
     "execution_count": 48,
     "metadata": {},
     "output_type": "execute_result"
    }
   ],
   "source": [
    "#Consumption frequency of respondents by city\n",
    "pd.crosstab(survey['City'], survey['Consume_frequency']).sort_values(['Daily'], ascending=False)"
   ]
  },
  {
   "cell_type": "code",
   "execution_count": 49,
   "id": "6f93f5a9",
   "metadata": {},
   "outputs": [
    {
     "data": {
      "image/png": "[encoded data removed]",
      "text/plain": [
       "<Figure size 1080x504 with 1 Axes>"
      ]
     },
     "metadata": {
      "needs_background": "light"
     },
     "output_type": "display_data"
    }
   ],
   "source": [
    "fig, ax = plt.subplots(figsize=(15,7))\n",
    "c = ['rosybrown','lightcoral','coral','indianred','tomato']\n",
    "pd.crosstab(survey['City'], survey['Consume_frequency']).sort_values('Daily', ascending=False).plot.bar(stacked='True', ax=ax, color= c)\n",
    "plt.xticks(rotation='horizontal')\n",
    "plt.show()"
   ]
  },
  {
   "cell_type": "markdown",
   "id": "4d675370",
   "metadata": {},
   "source": [
    "**Observations:**\n",
    "\n",
    "- Chennai has the highest number of respondents who consume energy drinks on a daily basis (378), followed by Bangalore (302), Hyderabad (95), and Mumbai (143). This indicates that Chennai has a larger proportion of daily consumers compared to other cities.\n",
    "- Bangalore, Mumbai, and Hyderabad still have a significant number of respondents who consume energy drinks on a daily basis, indicating a substantial market for frequent consumption in these cities.\n",
    "- Chennai, Hyderabad, and Bangalore also have a considerable number of respondents who consume energy drinks 2-3 times a week, indicating a preference for consuming energy drinks more frequently in these cities.\n",
    "- So overall Bangalore, chennai, Mumbai, pune and Hyderabad can be considered top 5 cities with a substantial number of daily and frequent energy drink consumers."
   ]
  },
  {
   "cell_type": "code",
   "execution_count": 50,
   "id": "ff360870",
   "metadata": {},
   "outputs": [
    {
     "data": {
      "text/html": [
       "<div>\n",
       "<style scoped>\n",
       "    .dataframe tbody tr th:only-of-type {\n",
       "        vertical-align: middle;\n",
       "    }\n",
       "\n",
       "    .dataframe tbody tr th {\n",
       "        vertical-align: top;\n",
       "    }\n",
       "\n",
       "    .dataframe thead th {\n",
       "        text-align: right;\n",
       "    }\n",
       "</style>\n",
       "<table border=\"1\" class=\"dataframe\">\n",
       "  <thead>\n",
       "    <tr style=\"text-align: right;\">\n",
       "      <th>Heard_before</th>\n",
       "      <th>No</th>\n",
       "      <th>Yes</th>\n",
       "    </tr>\n",
       "    <tr>\n",
       "      <th>City</th>\n",
       "      <th></th>\n",
       "      <th></th>\n",
       "    </tr>\n",
       "  </thead>\n",
       "  <tbody>\n",
       "    <tr>\n",
       "      <th>Bangalore</th>\n",
       "      <td>1670</td>\n",
       "      <td>1158</td>\n",
       "    </tr>\n",
       "    <tr>\n",
       "      <th>Mumbai</th>\n",
       "      <td>611</td>\n",
       "      <td>899</td>\n",
       "    </tr>\n",
       "    <tr>\n",
       "      <th>Hyderabad</th>\n",
       "      <td>1105</td>\n",
       "      <td>728</td>\n",
       "    </tr>\n",
       "    <tr>\n",
       "      <th>Pune</th>\n",
       "      <td>529</td>\n",
       "      <td>377</td>\n",
       "    </tr>\n",
       "    <tr>\n",
       "      <th>Chennai</th>\n",
       "      <td>565</td>\n",
       "      <td>372</td>\n",
       "    </tr>\n",
       "    <tr>\n",
       "      <th>Delhi</th>\n",
       "      <td>162</td>\n",
       "      <td>267</td>\n",
       "    </tr>\n",
       "    <tr>\n",
       "      <th>Kolkata</th>\n",
       "      <td>356</td>\n",
       "      <td>210</td>\n",
       "    </tr>\n",
       "    <tr>\n",
       "      <th>Ahmedabad</th>\n",
       "      <td>249</td>\n",
       "      <td>207</td>\n",
       "    </tr>\n",
       "    <tr>\n",
       "      <th>Jaipur</th>\n",
       "      <td>216</td>\n",
       "      <td>144</td>\n",
       "    </tr>\n",
       "    <tr>\n",
       "      <th>Lucknow</th>\n",
       "      <td>90</td>\n",
       "      <td>85</td>\n",
       "    </tr>\n",
       "  </tbody>\n",
       "</table>\n",
       "</div>"
      ],
      "text/plain": [
       "Heard_before    No   Yes\n",
       "City                    \n",
       "Bangalore     1670  1158\n",
       "Mumbai         611   899\n",
       "Hyderabad     1105   728\n",
       "Pune           529   377\n",
       "Chennai        565   372\n",
       "Delhi          162   267\n",
       "Kolkata        356   210\n",
       "Ahmedabad      249   207\n",
       "Jaipur         216   144\n",
       "Lucknow         90    85"
      ]
     },
     "execution_count": 50,
     "metadata": {},
     "output_type": "execute_result"
    }
   ],
   "source": [
    "#Awareness about the codeX by city\n",
    "pd.crosstab(survey['City'], survey['Heard_before']).sort_values('Yes', ascending=False)"
   ]
  },
  {
   "cell_type": "code",
   "execution_count": 51,
   "id": "a82579cc",
   "metadata": {},
   "outputs": [
    {
     "data": {
      "image/png": "[encoded data removed]",
      "text/plain": [
       "<Figure size 1080x504 with 1 Axes>"
      ]
     },
     "metadata": {
      "needs_background": "light"
     },
     "output_type": "display_data"
    }
   ],
   "source": [
    "fig, ax = plt.subplots(figsize=(15,7))\n",
    "c = ['rosybrown','lightcoral']\n",
    "pd.crosstab(survey['City'], survey['Heard_before']).sort_values('Yes', ascending=False).plot.bar(stacked='True', ax=ax, color= c)\n",
    "plt.xticks(rotation='horizontal')\n",
    "plt.show()"
   ]
  },
  {
   "cell_type": "markdown",
   "id": "67a90125",
   "metadata": {},
   "source": [
    "**Observations:**\n",
    "\n",
    "- Bangalore, Mumbai, and Hyderabad have the highest number of respondents who have heard about our brand. These cities have a relatively higher level of brand awareness compared to others.\n",
    "- Pune, Chennai, and Delhi also have a considerable number of respondents who have heard about our brand, although the numbers are slightly lower than the top three cities.\n",
    "- Kolkata, Ahmedabad, Jaipur, and Lucknow have a relatively lower level of brand awareness, with a smaller number of respondents who have heard about our brand."
   ]
  },
  {
   "cell_type": "markdown",
   "id": "39c4cc0d",
   "metadata": {},
   "source": [
    "### Ques12. Where do respondents prefer to purchase energy drinks?"
   ]
  },
  {
   "cell_type": "code",
   "execution_count": 52,
   "id": "de23c10f",
   "metadata": {
    "scrolled": true
   },
   "outputs": [
    {
     "data": {
      "text/plain": [
       "Supermarkets                4494\n",
       "Online retailers            2550\n",
       "Gyms and fitness centers    1464\n",
       "Local stores                 813\n",
       "Other                        679\n",
       "Name: Purchase_location, dtype: int64"
      ]
     },
     "execution_count": 52,
     "metadata": {},
     "output_type": "execute_result"
    }
   ],
   "source": [
    "survey['Purchase_location'].value_counts()"
   ]
  },
  {
   "cell_type": "code",
   "execution_count": 53,
   "id": "00d1c28c",
   "metadata": {},
   "outputs": [
    {
     "data": {
      "image/png": "[encoded data removed]",
      "text/plain": [
       "<Figure size 864x360 with 1 Axes>"
      ]
     },
     "metadata": {
      "needs_background": "light"
     },
     "output_type": "display_data"
    }
   ],
   "source": [
    "figure = plt.figure(figsize=[12,5])\n",
    "c = ['rosybrown','lightcoral','coral','indianred','tomato']\n",
    "survey['Purchase_location'].value_counts().plot.bar(color = c)\n",
    "plt.xticks(rotation='horizontal')\n",
    "plt.show()"
   ]
  },
  {
   "cell_type": "markdown",
   "id": "864ffa53",
   "metadata": {},
   "source": [
    "**Observations:**\n",
    "\n",
    "- Supermarkets are the most popular choice for purchasing energy drinks among the respondents. This indicates that a significant portion of consumers prefers the convenience and availability of energy drinks in large retail supermarkets. It suggests that having a strong presence and strategic placement of energy drinks in supermarkets can help capture a substantial share of the market.\n",
    "- Online retailers are the second most preferred option for purchasing energy drinks. This highlights the growing trend of online shopping and the convenience it offers to consumers. It is essential for energy drink brands to have a strong online presence, optimize their e-commerce platforms, and engage in effective digital marketing strategies to cater to the increasing demand from online shoppers.\n",
    "- Gyms and fitness centers play a notable role as purchase locations.\n",
    "- Local stores are still preferred by a portion of respondents.\n",
    "- Exploring alternative locations can provide additional opportunities.\n",
    "\n",
    "Based on this data, energy drink brands should focus on supermarkets, online retailers, and partnerships with gyms and fitness centers to target their consumers effectively."
   ]
  },
  {
   "cell_type": "markdown",
   "id": "cf67ce4d",
   "metadata": {},
   "source": [
    "### Ques13. What are the typical consumption situations for energy drinks among respondents?"
   ]
  },
  {
   "cell_type": "code",
   "execution_count": 54,
   "id": "7c8aef57",
   "metadata": {
    "scrolled": true
   },
   "outputs": [
    {
     "data": {
      "text/plain": [
       "Sports/exercise           4494\n",
       "Studying/working late     3231\n",
       "Social outings/parties    1487\n",
       "Other                      491\n",
       "Driving/commuting          297\n",
       "Name: Typical_consumption_situations, dtype: int64"
      ]
     },
     "execution_count": 54,
     "metadata": {},
     "output_type": "execute_result"
    }
   ],
   "source": [
    "survey['Typical_consumption_situations'].value_counts()"
   ]
  },
  {
   "cell_type": "code",
   "execution_count": 55,
   "id": "fb553219",
   "metadata": {},
   "outputs": [
    {
     "data": {
      "image/png": "[encoded data removed]",
      "text/plain": [
       "<Figure size 1080x360 with 1 Axes>"
      ]
     },
     "metadata": {
      "needs_background": "light"
     },
     "output_type": "display_data"
    }
   ],
   "source": [
    "figure = plt.figure(figsize=[15,5])\n",
    "c = ['rosybrown','lightcoral','coral','indianred','tomato']\n",
    "survey['Typical_consumption_situations'].value_counts().plot.bar(color = c)\n",
    "plt.xticks(rotation='horizontal')\n",
    "plt.show()"
   ]
  },
  {
   "cell_type": "markdown",
   "id": "84fde253",
   "metadata": {},
   "source": [
    "**Observations:**\n",
    "\n",
    "- Sports/exercise is the most common situation where respondents consume energy drinks, indicating a strong association with physical activity and performance enhancement.\n",
    "- Studying/working late is another significant consumption situation, suggesting that energy drinks are often used to combat fatigue and improve focus during work or study sessions.\n",
    "- Social outings/parties also contribute to energy drink consumption, indicating their popularity in social settings.\n",
    "\n",
    "These insights can help energy drink brands tailor their marketing strategies and product positioning to target consumers based on their typical consumption situations."
   ]
  },
  {
   "cell_type": "markdown",
   "id": "9c6f4349",
   "metadata": {},
   "source": [
    "### Ques14. What factors influence respondents' purchase decisions, such as price range and limited edition packaging?"
   ]
  },
  {
   "cell_type": "markdown",
   "id": "c7dfb9dd",
   "metadata": {},
   "source": [
    "- First, we will examine the factors influencing respondents' purchase decisions based on price range."
   ]
  },
  {
   "cell_type": "code",
   "execution_count": 56,
   "id": "fc83d985",
   "metadata": {
    "scrolled": true
   },
   "outputs": [
    {
     "data": {
      "text/plain": [
       "50-99        4288\n",
       "100-150      3142\n",
       "Above 150    1561\n",
       "Below 50     1009\n",
       "Name: Price_range, dtype: int64"
      ]
     },
     "execution_count": 56,
     "metadata": {},
     "output_type": "execute_result"
    }
   ],
   "source": [
    "survey['Price_range'].value_counts()"
   ]
  },
  {
   "cell_type": "code",
   "execution_count": 57,
   "id": "e664ef63",
   "metadata": {},
   "outputs": [
    {
     "data": {
      "image/png": "[encoded data removed]",
      "text/plain": [
       "<Figure size 720x360 with 1 Axes>"
      ]
     },
     "metadata": {
      "needs_background": "light"
     },
     "output_type": "display_data"
    }
   ],
   "source": [
    "figure = plt.figure(figsize=[10,5])\n",
    "c = ['rosybrown','lightcoral','coral','indianred']\n",
    "survey['Price_range'].value_counts().plot.bar(color = c)\n",
    "plt.xticks(rotation='horizontal')\n",
    "plt.show()"
   ]
  },
  {
   "cell_type": "markdown",
   "id": "c437fdb9",
   "metadata": {},
   "source": [
    "**Observations:**\n",
    "\n",
    "- 42.9% of respondents consider a price range between 50-99 as reasonable for an energy drink.\n",
    "- 31.4% of respondents are willing to pay a higher price range of 100-150 for an energy drink.\n",
    "\n",
    "Based on these observations, it can be inferred that a significant portion of respondents are willing to spend more on energy drinks, with the highest percentage falling within the 50-99 price range. Energy drink brands may consider focusing on products within this price range to meet the preferences of a substantial portion of their target audience. Additionally, offering options in the higher price ranges (100-150 and above 150) can cater to consumers who prioritize premium or specialized energy drink products."
   ]
  },
  {
   "cell_type": "markdown",
   "id": "1aafa307",
   "metadata": {},
   "source": [
    "- Now, let's explore the influence of limited edition packaging on respondents' purchase decisions."
   ]
  },
  {
   "cell_type": "code",
   "execution_count": 58,
   "id": "34e36e44",
   "metadata": {
    "scrolled": true
   },
   "outputs": [
    {
     "data": {
      "text/plain": [
       "No          4023\n",
       "Yes         3946\n",
       "Not Sure    2031\n",
       "Name: Limited_edition_packaging, dtype: int64"
      ]
     },
     "execution_count": 58,
     "metadata": {},
     "output_type": "execute_result"
    }
   ],
   "source": [
    "survey['Limited_edition_packaging'].value_counts()"
   ]
  },
  {
   "cell_type": "code",
   "execution_count": 59,
   "id": "803a2d1f",
   "metadata": {
    "scrolled": false
   },
   "outputs": [
    {
     "data": {
      "image/png": "[encoded data removed]",
      "text/plain": [
       "<Figure size 576x360 with 1 Axes>"
      ]
     },
     "metadata": {
      "needs_background": "light"
     },
     "output_type": "display_data"
    }
   ],
   "source": [
    "figure = plt.figure(figsize=[8,5])\n",
    "c = ['rosybrown','lightcoral','coral']\n",
    "survey['Limited_edition_packaging'].value_counts().plot.bar(color = c)\n",
    "plt.xticks(rotation='horizontal')\n",
    "plt.show()"
   ]
  },
  {
   "cell_type": "markdown",
   "id": "05d4fba8",
   "metadata": {},
   "source": [
    "**Observations:**\n",
    "\n",
    "- 40.2% of respondents indicated that limited edition packaging does not significantly impact their purchase decision.\n",
    "- 39.5% of respondents expressed a preference for limited edition packaging, suggesting that it can influence their purchase decisions positively.\n",
    "- 20.3% of respondents were unsure about the influence of limited edition packaging on their purchase decisions.\n",
    "\n",
    "These observations indicate that limited edition packaging can be a potential factor that influences a significant portion of respondents' purchase decisions. Brand may consider leveraging limited edition packaging as a marketing strategy to attract customers and create a sense of exclusivity or novelty around their energy drink products"
   ]
  },
  {
   "cell_type": "markdown",
   "id": "b97b686f",
   "metadata": {},
   "source": [
    "### Ques15. Which area of business should we focus more on our product development (Branding/taste/availability)"
   ]
  },
  {
   "cell_type": "markdown",
   "id": "a3d550e1",
   "metadata": {},
   "source": [
    "To determine which area of business should be prioritized for product development (branding, taste, or availability), we can analyze the responses to the following survey questions related to product development.\n",
    "1. Improvements_desired: This column represents the responses received for the question \"What improvements would you like to see in energy drinks currently available in the market?\"\n",
    "2. Preferred ingredients: This question asked respondents about their expectations regarding the ingredients in an energy drink.\n",
    "3. Health concerns: This question aimed to determine whether respondents were concerned about the health impacts of energy drinks.\n",
    "4. Interest in natural or organic ingredients: This question assessed respondents' interest in an energy drink with natural or organic ingredients."
   ]
  },
  {
   "cell_type": "code",
   "execution_count": 60,
   "id": "0910a5bc",
   "metadata": {},
   "outputs": [
    {
     "data": {
      "text/plain": [
       "Yes    6045\n",
       "No     3955\n",
       "Name: Health_concerns, dtype: int64"
      ]
     },
     "execution_count": 60,
     "metadata": {},
     "output_type": "execute_result"
    }
   ],
   "source": [
    "survey['Health_concerns'].value_counts()"
   ]
  },
  {
   "cell_type": "code",
   "execution_count": 61,
   "id": "a7789ef7",
   "metadata": {},
   "outputs": [
    {
     "data": {
      "text/plain": [
       "Yes         4983\n",
       "No          3062\n",
       "Not Sure    1955\n",
       "Name: Interest_in_natural_or_organic, dtype: int64"
      ]
     },
     "execution_count": 61,
     "metadata": {},
     "output_type": "execute_result"
    }
   ],
   "source": [
    "survey['Interest_in_natural_or_organic'].value_counts()"
   ]
  },
  {
   "cell_type": "code",
   "execution_count": 62,
   "id": "474e4637",
   "metadata": {},
   "outputs": [
    {
     "data": {
      "text/plain": [
       "Caffeine    3896\n",
       "Vitamins    2534\n",
       "Sugar       2017\n",
       "Guarana     1553\n",
       "Name: Ingredients_expected, dtype: int64"
      ]
     },
     "execution_count": 62,
     "metadata": {},
     "output_type": "execute_result"
    }
   ],
   "source": [
    "survey['Ingredients_expected'].value_counts()"
   ]
  },
  {
   "cell_type": "code",
   "execution_count": 63,
   "id": "200bad9b",
   "metadata": {},
   "outputs": [
    {
     "data": {
      "text/plain": [
       "Reduced sugar content       2995\n",
       "More natural ingredients    2498\n",
       "Wider range of flavors      2037\n",
       "Healthier alternatives      1472\n",
       "Other                        998\n",
       "Name: Improvements_desired, dtype: int64"
      ]
     },
     "execution_count": 63,
     "metadata": {},
     "output_type": "execute_result"
    }
   ],
   "source": [
    "survey['Improvements_desired'].value_counts()"
   ]
  },
  {
   "cell_type": "code",
   "execution_count": 64,
   "id": "76a73a55",
   "metadata": {},
   "outputs": [
    {
     "data": {
      "text/plain": [
       "Text(0.5, 1.0, 'Desired Improvements')"
      ]
     },
     "execution_count": 64,
     "metadata": {},
     "output_type": "execute_result"
    },
    {
     "data": {
      "image/png": "[encoded data removed]",
      "text/plain": [
       "<Figure size 1440x720 with 4 Axes>"
      ]
     },
     "metadata": {
      "needs_background": "light"
     },
     "output_type": "display_data"
    }
   ],
   "source": [
    "fig, ax = plt.subplots(2, 2, figsize=(20, 10))\n",
    "c = ['rosybrown', 'lightcoral', 'coral', 'teal', 'darkslategray', 'aqua', 'steelblue']\n",
    "\n",
    "survey['Interest_in_natural_or_organic'].value_counts().plot.bar(ax=ax[0,0], color=c)\n",
    "ax[0,0].set_xticklabels(ax[0,0].get_xticklabels(), rotation='horizontal')\n",
    "ax[0,0].set_title('Interest in natural or organic')\n",
    "\n",
    "survey['Health_concerns'].value_counts().plot.bar(ax=ax[0,1], color=c)\n",
    "ax[0,1].set_xticklabels(ax[0,1].get_xticklabels(), rotation='horizontal')\n",
    "ax[0,1].set_title('Health Concerns')\n",
    "\n",
    "survey['Ingredients_expected'].value_counts().plot.bar(ax=ax[1,0], color=c)\n",
    "ax[1,0].set_xticklabels(ax[1,0].get_xticklabels(), rotation='horizontal')\n",
    "ax[1,0].set_title('Expected Ingredients')\n",
    "\n",
    "survey['Improvements_desired'].value_counts().plot.bar(ax=ax[1,1], color=c)\n",
    "ax[1,1].set_xticklabels(ax[1,1].get_xticklabels(), rotation='vertical')\n",
    "ax[1,1].set_title('Desired Improvements')"
   ]
  },
  {
   "cell_type": "markdown",
   "id": "aa154036",
   "metadata": {},
   "source": [
    "#### Observation:\n",
    "1. Health Concerns:\n",
    "   - This indicates that addressing health concerns and offering healthier alternatives could be an important focus for product development.\n",
    "\n",
    "2. Interest in Natural or Organic Ingredients:\n",
    "   - 49.83% of respondents expressed interest in an energy drink with natural or organic ingredients.\n",
    "   - This suggests that incorporating natural or organic ingredients into the product could be a valuable strategy for product development.\n",
    "\n",
    "3. Preferred Ingredients:\n",
    "   - The most commonly expected ingredients in energy drinks are caffeine (38.96%) and vitamins (25.34%).\n",
    "   - This implies that ensuring the presence of these ingredients and possibly highlighting their benefits could contribute to product development.\n",
    "\n",
    "4. Improvements Desired:\n",
    "   - The top desired improvements in energy drinks include reduced sugar content (29.95%) and more natural ingredients (24.98%).\n",
    "   - Respondents also expressed a desire for a wider range of flavors (20.37%).\n",
    "   - These findings emphasize the importance of addressing sugar content, incorporating natural ingredients, and expanding flavor options in product development.\n",
    "\n",
    "Based on these insights, it can be recommended that product development should focus on the following areas:\n",
    "- Reducing sugar content and offering healthier alternatives\n",
    "- Incorporating natural or organic ingredients\n",
    "- Expanding the range of flavors available in energy drinks"
   ]
  }
 ],
 "metadata": {
  "kernelspec": {
   "display_name": "Python 3 (ipykernel)",
   "language": "python",
   "name": "python3"
  },
  "language_info": {
   "codemirror_mode": {
    "name": "ipython",
    "version": 3
   },
   "file_extension": ".py",
   "mimetype": "text/x-python",
   "name": "python",
   "nbconvert_exporter": "python",
   "pygments_lexer": "ipython3",
   "version": "3.9.12"
  }
 },
 "nbformat": 4,
 "nbformat_minor": 5
}
